{
 "cells": [
  {
   "cell_type": "markdown",
   "metadata": {},
   "source": [
    "# Decision Tree example - Regression"
   ]
  },
  {
   "cell_type": "markdown",
   "metadata": {},
   "source": [
    "- **Purpose:** Predict Boston housing prices using census data\n",
    "- **Data:** Boston Housing prices. For more info follow <a href=\"https://www.cs.toronto.edu/~delve/data/boston/bostonDetail.html#:~:text=The%20Boston%20Housing%20Dataset,the%20area%20of%20Boston%20Mass.\" target=\"_blank\">this link</a> \n",
    "- **Author:** Emily Diaz\n",
    "- **Date:** October 6th of 2020 "
   ]
  },
  {
   "cell_type": "markdown",
   "metadata": {},
   "source": [
    "Process steps: \n",
    "1. [Import modules](#importmod)\n",
    "2. [Load data](#loaddata)\n",
    "3. [Profiling](#profiling)\n",
    "4. [Data prep](#dataprep)\n",
    "5. [Modeling](#modeling)\n"
   ]
  },
  {
   "cell_type": "markdown",
   "metadata": {},
   "source": [
    "Useful links: \n",
    "- https://towardsdatascience.com/baby-steps-towards-data-science-decision-tree-regression-in-python-323beeacbb6e\n",
    "- https://scikit-learn.org/stable/modules/tree.html\n",
    "- https://www.datasciencecentral.com/profiles/blogs/introduction-to-classification-regression-trees-cart#:~:text=A%20simple%20example%20of%20a,be%20split%20no%20more%3B%20and\n",
    "- https://en.wikipedia.org/wiki/Decision_tree_learning\n",
    "- https://sefiks.com/2018/08/27/a-step-by-step-cart-decision-tree-example/"
   ]
  },
  {
   "cell_type": "markdown",
   "metadata": {},
   "source": [
    "# What is a Decision Tree"
   ]
  },
  {
   "cell_type": "code",
   "execution_count": 85,
   "metadata": {},
   "outputs": [],
   "source": [
    "import os # for changing directory\n",
    "os.chdir('/Users/Natasha_Diaz/Box Sync/Capability Building (shared with client)/Learn - Data Science Topics')"
   ]
  },
  {
   "cell_type": "markdown",
   "metadata": {},
   "source": [
    "<img src=\"img/DT_example.png\" />"
   ]
  },
  {
   "cell_type": "markdown",
   "metadata": {},
   "source": [
    "Decision Tree is a *Supervised Learning* technique that can be used for **classification and regression** problems. The most popular type is called **CART** (Classification and Regression Trees). The algorithm is structured as a sequence of questions, that returns a tree like structure where the ends are terminal nodes at which point there are no more questions and we get the final result (category or numeric) for that set of characteristics.\n",
    "\n",
    "The metric that it considers to find the best split is **GINI impurity**, which is a measure of how often a randomly chosen element from the set would be incorrectly labeled if it was randomly labeled according to the distribution of labels in the subset. \n",
    "\n",
    "Other important characteristics of this method are: \n",
    "- CART is nonparametric and therefore does not rely on data belonging to a particular type of distribution\n",
    "- CART is not significantly impacted by outliers in the input variables\n",
    "- CART can use the same variables more than once in different parts of the tree.  This capability can uncover complex interdependencies between sets of variables\n",
    "- Is the base for more complex ensemble and boosting methods such as Random Forest and GBM\n",
    "\n",
    "Disadvantages: \n",
    "- Trees are very sensitive to small change in the training data leading to significant changes on final predictions (robustness issue)\n",
    "- They tend to overfit (can be solved with pruning)"
   ]
  },
  {
   "cell_type": "markdown",
   "metadata": {},
   "source": [
    "***"
   ]
  },
  {
   "cell_type": "markdown",
   "metadata": {},
   "source": [
    "<a id=\"importmod\"></a>\n",
    "## 1. Import modules"
   ]
  },
  {
   "cell_type": "code",
   "execution_count": 86,
   "metadata": {},
   "outputs": [],
   "source": [
    "import numpy as np\n",
    "import pandas as pd\n",
    "import matplotlib.pyplot as plt\n",
    "from pandas_profiling import ProfileReport # profiling\n",
    "from sklearn.preprocessing import MinMaxScaler # scaling data to 0-1 range\n",
    "from sklearn.model_selection import train_test_split #train/test split\n",
    "from sklearn.tree import DecisionTreeRegressor # to create decision tree\n",
    "from sklearn import tree # to plot tree\n",
    "from sklearn.model_selection import cross_val_score # to obtain accuracy of model\n",
    "from sklearn.model_selection import GridSearchCV # for parameter tuning"
   ]
  },
  {
   "cell_type": "code",
   "execution_count": 87,
   "metadata": {},
   "outputs": [],
   "source": [
    "# Random seed: to always get the same results/reproducibility\n",
    "random_seed =42"
   ]
  },
  {
   "cell_type": "markdown",
   "metadata": {},
   "source": [
    "<a id=\"loaddata\"></a>\n",
    "## 2. Load data"
   ]
  },
  {
   "cell_type": "code",
   "execution_count": 88,
   "metadata": {},
   "outputs": [
    {
     "name": "stdout",
     "output_type": "stream",
     "text": [
      "(506, 14)\n"
     ]
    },
    {
     "data": {
      "text/html": [
       "<div>\n",
       "<style scoped>\n",
       "    .dataframe tbody tr th:only-of-type {\n",
       "        vertical-align: middle;\n",
       "    }\n",
       "\n",
       "    .dataframe tbody tr th {\n",
       "        vertical-align: top;\n",
       "    }\n",
       "\n",
       "    .dataframe thead th {\n",
       "        text-align: right;\n",
       "    }\n",
       "</style>\n",
       "<table border=\"1\" class=\"dataframe\">\n",
       "  <thead>\n",
       "    <tr style=\"text-align: right;\">\n",
       "      <th></th>\n",
       "      <th>CRIM</th>\n",
       "      <th>ZN</th>\n",
       "      <th>INDUS</th>\n",
       "      <th>CHAS</th>\n",
       "      <th>NOX</th>\n",
       "      <th>RM</th>\n",
       "      <th>AGE</th>\n",
       "      <th>DIS</th>\n",
       "      <th>RAD</th>\n",
       "      <th>TAX</th>\n",
       "      <th>PTRATIO</th>\n",
       "      <th>B</th>\n",
       "      <th>LSTAT</th>\n",
       "      <th>MEDV</th>\n",
       "    </tr>\n",
       "  </thead>\n",
       "  <tbody>\n",
       "    <tr>\n",
       "      <th>0</th>\n",
       "      <td>0.00632</td>\n",
       "      <td>18.0</td>\n",
       "      <td>2.31</td>\n",
       "      <td>0</td>\n",
       "      <td>0.538</td>\n",
       "      <td>6.575</td>\n",
       "      <td>65.2</td>\n",
       "      <td>4.0900</td>\n",
       "      <td>1</td>\n",
       "      <td>296.0</td>\n",
       "      <td>15.3</td>\n",
       "      <td>396.90</td>\n",
       "      <td>4.98</td>\n",
       "      <td>24.0</td>\n",
       "    </tr>\n",
       "    <tr>\n",
       "      <th>1</th>\n",
       "      <td>0.02731</td>\n",
       "      <td>0.0</td>\n",
       "      <td>7.07</td>\n",
       "      <td>0</td>\n",
       "      <td>0.469</td>\n",
       "      <td>6.421</td>\n",
       "      <td>78.9</td>\n",
       "      <td>4.9671</td>\n",
       "      <td>2</td>\n",
       "      <td>242.0</td>\n",
       "      <td>17.8</td>\n",
       "      <td>396.90</td>\n",
       "      <td>9.14</td>\n",
       "      <td>21.6</td>\n",
       "    </tr>\n",
       "    <tr>\n",
       "      <th>2</th>\n",
       "      <td>0.02729</td>\n",
       "      <td>0.0</td>\n",
       "      <td>7.07</td>\n",
       "      <td>0</td>\n",
       "      <td>0.469</td>\n",
       "      <td>7.185</td>\n",
       "      <td>61.1</td>\n",
       "      <td>4.9671</td>\n",
       "      <td>2</td>\n",
       "      <td>242.0</td>\n",
       "      <td>17.8</td>\n",
       "      <td>392.83</td>\n",
       "      <td>4.03</td>\n",
       "      <td>34.7</td>\n",
       "    </tr>\n",
       "    <tr>\n",
       "      <th>3</th>\n",
       "      <td>0.03237</td>\n",
       "      <td>0.0</td>\n",
       "      <td>2.18</td>\n",
       "      <td>0</td>\n",
       "      <td>0.458</td>\n",
       "      <td>6.998</td>\n",
       "      <td>45.8</td>\n",
       "      <td>6.0622</td>\n",
       "      <td>3</td>\n",
       "      <td>222.0</td>\n",
       "      <td>18.7</td>\n",
       "      <td>394.63</td>\n",
       "      <td>2.94</td>\n",
       "      <td>33.4</td>\n",
       "    </tr>\n",
       "    <tr>\n",
       "      <th>4</th>\n",
       "      <td>0.06905</td>\n",
       "      <td>0.0</td>\n",
       "      <td>2.18</td>\n",
       "      <td>0</td>\n",
       "      <td>0.458</td>\n",
       "      <td>7.147</td>\n",
       "      <td>54.2</td>\n",
       "      <td>6.0622</td>\n",
       "      <td>3</td>\n",
       "      <td>222.0</td>\n",
       "      <td>18.7</td>\n",
       "      <td>396.90</td>\n",
       "      <td>5.33</td>\n",
       "      <td>36.2</td>\n",
       "    </tr>\n",
       "  </tbody>\n",
       "</table>\n",
       "</div>"
      ],
      "text/plain": [
       "      CRIM    ZN  INDUS  CHAS    NOX     RM   AGE     DIS  RAD    TAX  \\\n",
       "0  0.00632  18.0   2.31     0  0.538  6.575  65.2  4.0900    1  296.0   \n",
       "1  0.02731   0.0   7.07     0  0.469  6.421  78.9  4.9671    2  242.0   \n",
       "2  0.02729   0.0   7.07     0  0.469  7.185  61.1  4.9671    2  242.0   \n",
       "3  0.03237   0.0   2.18     0  0.458  6.998  45.8  6.0622    3  222.0   \n",
       "4  0.06905   0.0   2.18     0  0.458  7.147  54.2  6.0622    3  222.0   \n",
       "\n",
       "   PTRATIO       B  LSTAT  MEDV  \n",
       "0     15.3  396.90   4.98  24.0  \n",
       "1     17.8  396.90   9.14  21.6  \n",
       "2     17.8  392.83   4.03  34.7  \n",
       "3     18.7  394.63   2.94  33.4  \n",
       "4     18.7  396.90   5.33  36.2  "
      ]
     },
     "execution_count": 88,
     "metadata": {},
     "output_type": "execute_result"
    }
   ],
   "source": [
    "filename = (\"/Users/Natasha_Diaz/Box Sync/Capability Building (shared with client)/Learn - Data Science Topics/1_Input/housing.csv\")\n",
    "names = ['CRIM', 'ZN', 'INDUS', 'CHAS', 'NOX', 'RM', 'AGE', 'DIS', 'RAD', 'TAX', 'PTRATIO', 'B', 'LSTAT', 'MEDV']\n",
    "dataset = pd.read_csv(filename, delim_whitespace=True, names=names)\n",
    "print(dataset.shape)\n",
    "dataset.head()"
   ]
  },
  {
   "cell_type": "markdown",
   "metadata": {},
   "source": [
    "<a id=\"profiling\"></a>\n",
    "## 3. Profiling"
   ]
  },
  {
   "cell_type": "markdown",
   "metadata": {},
   "source": [
    "For more info about this package, follow <a href=\"https://github.com/pandas-profiling/pandas-profiling\" target=\"_blank\">this link</a> \n",
    "\n"
   ]
  },
  {
   "cell_type": "code",
   "execution_count": 89,
   "metadata": {},
   "outputs": [
    {
     "data": {
      "application/vnd.jupyter.widget-view+json": {
       "model_id": "6f04995d705c42208bc92687ef69350e",
       "version_major": 2,
       "version_minor": 0
      },
      "text/plain": [
       "HBox(children=(FloatProgress(value=0.0, description='Summarize dataset', max=28.0, style=ProgressStyle(descrip…"
      ]
     },
     "metadata": {},
     "output_type": "display_data"
    },
    {
     "name": "stdout",
     "output_type": "stream",
     "text": [
      "\n"
     ]
    },
    {
     "data": {
      "application/vnd.jupyter.widget-view+json": {
       "model_id": "252c61c6930342c5b863fb3efe9e0d8d",
       "version_major": 2,
       "version_minor": 0
      },
      "text/plain": [
       "HBox(children=(FloatProgress(value=0.0, description='Generate report structure', max=1.0, style=ProgressStyle(…"
      ]
     },
     "metadata": {},
     "output_type": "display_data"
    },
    {
     "name": "stderr",
     "output_type": "stream",
     "text": [
      "/Users/Natasha_Diaz/opt/anaconda3/lib/python3.7/site-packages/pandas_profiling/visualisation/plot.py:160: MatplotlibDeprecationWarning: You are modifying the state of a globally registered colormap. In future versions, you will not be able to modify a registered colormap in-place. To remove this warning, you can make a copy of the colormap first. cmap = copy.copy(mpl.cm.get_cmap(\"RdBu\"))\n",
      "  cmap.set_bad(cmap_bad)\n",
      "/Users/Natasha_Diaz/opt/anaconda3/lib/python3.7/site-packages/pandas_profiling/visualisation/plot.py:160: MatplotlibDeprecationWarning: You are modifying the state of a globally registered colormap. In future versions, you will not be able to modify a registered colormap in-place. To remove this warning, you can make a copy of the colormap first. cmap = copy.copy(mpl.cm.get_cmap(\"RdBu\"))\n",
      "  cmap.set_bad(cmap_bad)\n",
      "/Users/Natasha_Diaz/opt/anaconda3/lib/python3.7/site-packages/pandas_profiling/visualisation/plot.py:160: MatplotlibDeprecationWarning: You are modifying the state of a globally registered colormap. In future versions, you will not be able to modify a registered colormap in-place. To remove this warning, you can make a copy of the colormap first. cmap = copy.copy(mpl.cm.get_cmap(\"RdBu\"))\n",
      "  cmap.set_bad(cmap_bad)\n"
     ]
    },
    {
     "name": "stdout",
     "output_type": "stream",
     "text": [
      "\n"
     ]
    },
    {
     "data": {
      "application/vnd.jupyter.widget-view+json": {
       "model_id": "",
       "version_major": 2,
       "version_minor": 0
      },
      "text/plain": [
       "HBox(children=(FloatProgress(value=0.0, description='Render widgets', max=1.0, style=ProgressStyle(description…"
      ]
     },
     "metadata": {},
     "output_type": "display_data"
    },
    {
     "data": {
      "application/vnd.jupyter.widget-view+json": {
       "model_id": "9d2490c0a3c240c49a35cc7bf3475d1b",
       "version_major": 2,
       "version_minor": 0
      },
      "text/plain": [
       "VBox(children=(Tab(children=(Tab(children=(GridBox(children=(VBox(children=(GridspecLayout(children=(HTML(valu…"
      ]
     },
     "metadata": {},
     "output_type": "display_data"
    }
   ],
   "source": [
    "profile = ProfileReport(dataset, title='Pandas Profiling Report', explorative=True)\n",
    "profile.to_widgets()"
   ]
  },
  {
   "cell_type": "markdown",
   "metadata": {},
   "source": [
    "<a id=\"dataprep\"></a>\n",
    "## 4. Data Prep"
   ]
  },
  {
   "cell_type": "markdown",
   "metadata": {},
   "source": [
    "### Y and X split (target vs features)"
   ]
  },
  {
   "cell_type": "code",
   "execution_count": 90,
   "metadata": {},
   "outputs": [],
   "source": [
    "X = dataset.drop(columns= ['MEDV'])\n",
    "y = dataset['MEDV']"
   ]
  },
  {
   "cell_type": "markdown",
   "metadata": {},
   "source": [
    "### Scaling - so different scales don't affect the results"
   ]
  },
  {
   "cell_type": "code",
   "execution_count": 91,
   "metadata": {},
   "outputs": [],
   "source": [
    "# Initialize min/max scaler: this takes data to a 0 to 1 scale\n",
    "scaler = MinMaxScaler()"
   ]
  },
  {
   "cell_type": "code",
   "execution_count": 92,
   "metadata": {},
   "outputs": [],
   "source": [
    "scaled_X = scaler.fit_transform(X)"
   ]
  },
  {
   "cell_type": "markdown",
   "metadata": {},
   "source": [
    "### Test/train split"
   ]
  },
  {
   "cell_type": "code",
   "execution_count": 93,
   "metadata": {},
   "outputs": [],
   "source": [
    "X_train, X_test, y_train, y_test = train_test_split(scaled_X, y, test_size=0.3, random_state=42)\n"
   ]
  },
  {
   "cell_type": "markdown",
   "metadata": {},
   "source": [
    "<a id=\"modeling\"></a>\n",
    "## 5. Modeling"
   ]
  },
  {
   "cell_type": "code",
   "execution_count": 94,
   "metadata": {},
   "outputs": [],
   "source": [
    "# Initialize decision tree (with default parameters)\n",
    "dt_model = DecisionTreeRegressor(random_state=random_seed)"
   ]
  },
  {
   "cell_type": "code",
   "execution_count": 95,
   "metadata": {},
   "outputs": [
    {
     "data": {
      "text/plain": [
       "DecisionTreeRegressor(ccp_alpha=0.0, criterion='mse', max_depth=None,\n",
       "                      max_features=None, max_leaf_nodes=None,\n",
       "                      min_impurity_decrease=0.0, min_impurity_split=None,\n",
       "                      min_samples_leaf=1, min_samples_split=2,\n",
       "                      min_weight_fraction_leaf=0.0, presort='deprecated',\n",
       "                      random_state=42, splitter='best')"
      ]
     },
     "execution_count": 95,
     "metadata": {},
     "output_type": "execute_result"
    }
   ],
   "source": [
    "dt_model.fit(X_train,y_train)"
   ]
  },
  {
   "cell_type": "code",
   "execution_count": 96,
   "metadata": {},
   "outputs": [
    {
     "data": {
      "text/plain": [
       "[Text(227.02269789650776, 212.26285714285714, 'X[5] <= 0.648\\nmse = 87.897\\nsamples = 354\\nvalue = 23.016'),\n",
       " Text(138.13090775642155, 201.90857142857143, 'X[12] <= 0.35\\nmse = 41.295\\nsamples = 292\\nvalue = 20.084'),\n",
       " Text(66.8056578773751, 191.5542857142857, 'X[7] <= 0.023\\nmse = 26.114\\nsamples = 178\\nvalue = 23.47'),\n",
       " Text(43.46428791344124, 181.2, 'X[0] <= 0.114\\nmse = 91.577\\nsamples = 4\\nvalue = 44.475'),\n",
       " Text(42.52185300844476, 170.84571428571428, 'mse = 0.0\\nsamples = 3\\nvalue = 50.0'),\n",
       " Text(44.40672281843772, 170.84571428571428, 'mse = -0.0\\nsamples = 1\\nvalue = 27.9'),\n",
       " Text(90.14702784130894, 181.2, 'X[5] <= 0.571\\nmse = 14.233\\nsamples = 174\\nvalue = 22.987'),\n",
       " Text(46.291592628430685, 170.84571428571428, 'X[12] <= 0.166\\nmse = 7.174\\nsamples = 133\\nvalue = 21.639'),\n",
       " Text(7.775087966220972, 160.49142857142857, 'X[0] <= 0.0\\nmse = 2.279\\nsamples = 25\\nvalue = 23.776'),\n",
       " Text(6.83265306122449, 150.13714285714286, 'mse = 0.0\\nsamples = 1\\nvalue = 28.7'),\n",
       " Text(8.717522871217453, 150.13714285714286, 'X[11] <= 0.873\\nmse = 1.322\\nsamples = 24\\nvalue = 23.571'),\n",
       " Text(7.775087966220972, 139.78285714285715, 'mse = 0.0\\nsamples = 1\\nvalue = 27.0'),\n",
       " Text(9.659957776213934, 139.78285714285715, 'X[6] <= 0.228\\nmse = 0.846\\nsamples = 23\\nvalue = 23.422'),\n",
       " Text(3.7697396199859257, 129.42857142857144, 'X[1] <= 0.26\\nmse = 0.323\\nsamples = 6\\nvalue = 24.3'),\n",
       " Text(1.8848698099929628, 119.07428571428571, 'X[7] <= 0.351\\nmse = 0.112\\nsamples = 4\\nvalue = 24.65'),\n",
       " Text(0.9424349049964814, 108.72, 'mse = 0.0\\nsamples = 1\\nvalue = 24.1'),\n",
       " Text(2.8273047149894444, 108.72, 'X[5] <= 0.558\\nmse = 0.016\\nsamples = 3\\nvalue = 24.833'),\n",
       " Text(1.8848698099929628, 98.36571428571429, 'X[9] <= 0.18\\nmse = 0.003\\nsamples = 2\\nvalue = 24.75'),\n",
       " Text(0.9424349049964814, 88.01142857142858, 'mse = 0.0\\nsamples = 1\\nvalue = 24.7'),\n",
       " Text(2.8273047149894444, 88.01142857142858, 'mse = 0.0\\nsamples = 1\\nvalue = 24.8'),\n",
       " Text(3.7697396199859257, 98.36571428571429, 'mse = 0.0\\nsamples = 1\\nvalue = 25.0'),\n",
       " Text(5.654609429978889, 119.07428571428571, 'X[12] <= 0.088\\nmse = 0.01\\nsamples = 2\\nvalue = 23.6'),\n",
       " Text(4.712174524982407, 108.72, 'mse = 0.0\\nsamples = 1\\nvalue = 23.5'),\n",
       " Text(6.59704433497537, 108.72, 'mse = -0.0\\nsamples = 1\\nvalue = 23.7'),\n",
       " Text(15.550175932441944, 129.42857142857144, 'X[7] <= 0.476\\nmse = 0.662\\nsamples = 17\\nvalue = 23.112'),\n",
       " Text(11.309218859957777, 119.07428571428571, 'X[6] <= 0.552\\nmse = 0.595\\nsamples = 10\\nvalue = 23.49'),\n",
       " Text(8.481914144968332, 108.72, 'X[10] <= 0.42\\nmse = 0.339\\nsamples = 6\\nvalue = 23.05'),\n",
       " Text(7.539479239971851, 98.36571428571429, 'mse = 0.0\\nsamples = 1\\nvalue = 24.1'),\n",
       " Text(9.424349049964814, 98.36571428571429, 'X[7] <= 0.222\\nmse = 0.142\\nsamples = 5\\nvalue = 22.84'),\n",
       " Text(8.481914144968332, 88.01142857142858, 'mse = 0.0\\nsamples = 1\\nvalue = 22.1'),\n",
       " Text(10.366783954961296, 88.01142857142858, 'X[7] <= 0.349\\nmse = 0.007\\nsamples = 4\\nvalue = 23.025'),\n",
       " Text(9.424349049964814, 77.65714285714284, 'mse = 0.0\\nsamples = 2\\nvalue = 23.1'),\n",
       " Text(11.309218859957777, 77.65714285714284, 'X[11] <= 0.992\\nmse = 0.003\\nsamples = 2\\nvalue = 22.95'),\n",
       " Text(10.366783954961296, 67.30285714285714, 'mse = 0.0\\nsamples = 1\\nvalue = 22.9'),\n",
       " Text(12.25165376495426, 67.30285714285714, 'mse = -0.0\\nsamples = 1\\nvalue = 23.0'),\n",
       " Text(14.136523574947221, 108.72, 'X[0] <= 0.015\\nmse = 0.252\\nsamples = 4\\nvalue = 24.15'),\n",
       " Text(13.19408866995074, 98.36571428571429, 'X[12] <= 0.128\\nmse = 0.016\\nsamples = 3\\nvalue = 24.433'),\n",
       " Text(12.25165376495426, 88.01142857142858, 'mse = 0.0\\nsamples = 1\\nvalue = 24.6'),\n",
       " Text(14.136523574947221, 88.01142857142858, 'X[4] <= 0.308\\nmse = 0.002\\nsamples = 2\\nvalue = 24.35'),\n",
       " Text(13.19408866995074, 77.65714285714284, 'mse = 0.0\\nsamples = 1\\nvalue = 24.4'),\n",
       " Text(15.078958479943703, 77.65714285714284, 'mse = -0.0\\nsamples = 1\\nvalue = 24.3'),\n",
       " Text(15.078958479943703, 98.36571428571429, 'mse = -0.0\\nsamples = 1\\nvalue = 23.3'),\n",
       " Text(19.79113300492611, 119.07428571428571, 'X[6] <= 0.296\\nmse = 0.262\\nsamples = 7\\nvalue = 22.571'),\n",
       " Text(17.906263194933146, 108.72, 'X[8] <= 0.261\\nmse = 0.003\\nsamples = 2\\nvalue = 23.25'),\n",
       " Text(16.963828289936664, 98.36571428571429, 'mse = 0.0\\nsamples = 1\\nvalue = 23.2'),\n",
       " Text(18.848698099929628, 98.36571428571429, 'mse = 0.0\\nsamples = 1\\nvalue = 23.3'),\n",
       " Text(21.676002814919073, 108.72, 'X[5] <= 0.558\\nmse = 0.108\\nsamples = 5\\nvalue = 22.3'),\n",
       " Text(20.73356790992259, 98.36571428571429, 'X[5] <= 0.508\\nmse = 0.023\\nsamples = 4\\nvalue = 22.15'),\n",
       " Text(19.79113300492611, 88.01142857142858, 'mse = 0.0\\nsamples = 1\\nvalue = 21.9'),\n",
       " Text(21.676002814919073, 88.01142857142858, 'X[2] <= 0.176\\nmse = 0.002\\nsamples = 3\\nvalue = 22.233'),\n",
       " Text(20.73356790992259, 77.65714285714284, 'mse = -0.0\\nsamples = 2\\nvalue = 22.2'),\n",
       " Text(22.618437719915555, 77.65714285714284, 'mse = 0.0\\nsamples = 1\\nvalue = 22.3'),\n",
       " Text(22.618437719915555, 98.36571428571429, 'mse = -0.0\\nsamples = 1\\nvalue = 22.9'),\n",
       " Text(84.8080972906404, 160.49142857142857, 'X[10] <= 0.846\\nmse = 7.006\\nsamples = 108\\nvalue = 21.144'),\n",
       " Text(63.82787649542576, 150.13714285714286, 'X[5] <= 0.482\\nmse = 6.506\\nsamples = 95\\nvalue = 21.445'),\n",
       " Text(43.425633356790996, 139.78285714285715, 'X[11] <= 0.168\\nmse = 5.834\\nsamples = 51\\nvalue = 20.618'),\n",
       " Text(42.483198451794514, 129.42857142857144, 'mse = 0.0\\nsamples = 1\\nvalue = 15.0'),\n",
       " Text(44.36806826178748, 129.42857142857144, 'X[4] <= 0.843\\nmse = 5.307\\nsamples = 50\\nvalue = 20.73'),\n",
       " Text(38.080260380014074, 119.07428571428571, 'X[7] <= 0.256\\nmse = 4.869\\nsamples = 48\\nvalue = 20.867'),\n",
       " Text(28.331949331456723, 108.72, 'X[2] <= 0.101\\nmse = 4.673\\nsamples = 27\\nvalue = 21.519'),\n",
       " Text(27.38951442646024, 98.36571428571429, 'mse = 0.0\\nsamples = 1\\nvalue = 26.4'),\n",
       " Text(29.274384236453205, 98.36571428571429, 'X[10] <= 0.532\\nmse = 3.901\\nsamples = 26\\nvalue = 21.331'),\n",
       " Text(25.445742434904997, 88.01142857142858, 'X[0] <= 0.026\\nmse = 2.442\\nsamples = 7\\nvalue = 22.657'),\n",
       " Text(24.50330752990852, 77.65714285714284, 'X[11] <= 0.971\\nmse = 0.389\\nsamples = 6\\nvalue = 23.25'),\n",
       " Text(22.618437719915555, 67.30285714285714, 'X[11] <= 0.763\\nmse = 0.062\\nsamples = 2\\nvalue = 24.05'),\n",
       " Text(21.676002814919073, 56.94857142857143, 'mse = 0.0\\nsamples = 1\\nvalue = 23.8'),\n",
       " Text(23.560872624912037, 56.94857142857143, 'mse = 0.0\\nsamples = 1\\nvalue = 24.3'),\n",
       " Text(26.38817733990148, 67.30285714285714, 'X[0] <= 0.001\\nmse = 0.072\\nsamples = 4\\nvalue = 22.85'),\n",
       " Text(25.445742434904997, 56.94857142857143, 'mse = 0.0\\nsamples = 1\\nvalue = 23.3'),\n",
       " Text(27.33061224489796, 56.94857142857143, 'X[10] <= 0.133\\nmse = 0.007\\nsamples = 3\\nvalue = 22.7'),\n",
       " Text(26.38817733990148, 46.59428571428572, 'mse = 0.0\\nsamples = 1\\nvalue = 22.8'),\n",
       " Text(28.273047149894442, 46.59428571428572, 'X[0] <= 0.013\\nmse = 0.002\\nsamples = 2\\nvalue = 22.65'),\n",
       " Text(27.33061224489796, 36.24000000000001, 'mse = 0.0\\nsamples = 1\\nvalue = 22.6'),\n",
       " Text(29.215482054890924, 36.24000000000001, 'mse = 0.0\\nsamples = 1\\nvalue = 22.7'),\n",
       " Text(26.38817733990148, 77.65714285714284, 'mse = 0.0\\nsamples = 1\\nvalue = 19.1'),\n",
       " Text(33.10302603800141, 88.01142857142858, 'X[10] <= 0.628\\nmse = 3.552\\nsamples = 19\\nvalue = 20.842'),\n",
       " Text(29.215482054890924, 77.65714285714284, 'X[11] <= 0.935\\nmse = 3.209\\nsamples = 3\\nvalue = 18.567'),\n",
       " Text(28.273047149894442, 67.30285714285714, 'mse = 0.0\\nsamples = 1\\nvalue = 16.1'),\n",
       " Text(30.157916959887405, 67.30285714285714, 'X[7] <= 0.164\\nmse = 0.25\\nsamples = 2\\nvalue = 19.8'),\n",
       " Text(29.215482054890924, 56.94857142857143, 'mse = 0.0\\nsamples = 1\\nvalue = 19.3'),\n",
       " Text(31.100351864883887, 56.94857142857143, 'mse = 0.0\\nsamples = 1\\nvalue = 20.3'),\n",
       " Text(36.99057002111189, 77.65714285714284, 'X[6] <= 0.339\\nmse = 2.463\\nsamples = 16\\nvalue = 21.269'),\n",
       " Text(36.04813511611541, 67.30285714285714, 'mse = 0.0\\nsamples = 1\\nvalue = 24.7'),\n",
       " Text(37.933004926108374, 67.30285714285714, 'X[7] <= 0.146\\nmse = 1.79\\nsamples = 15\\nvalue = 21.04'),\n",
       " Text(32.98522167487685, 56.94857142857143, 'X[6] <= 0.526\\nmse = 1.937\\nsamples = 8\\nvalue = 21.738'),\n",
       " Text(32.042786769880365, 46.59428571428572, 'mse = 0.0\\nsamples = 1\\nvalue = 24.5'),\n",
       " Text(33.92765657987333, 46.59428571428572, 'X[6] <= 0.892\\nmse = 0.968\\nsamples = 7\\nvalue = 21.343'),\n",
       " Text(31.571569317382128, 36.24000000000001, 'X[6] <= 0.759\\nmse = 0.462\\nsamples = 5\\nvalue = 20.88'),\n",
       " Text(29.686699507389164, 25.8857142857143, 'X[12] <= 0.329\\nmse = 0.16\\nsamples = 2\\nvalue = 21.6'),\n",
       " Text(28.744264602392683, 15.531428571428563, 'mse = 0.0\\nsamples = 1\\nvalue = 21.2'),\n",
       " Text(30.629134412385646, 15.531428571428563, 'mse = -0.0\\nsamples = 1\\nvalue = 22.0'),\n",
       " Text(33.45643912737509, 25.8857142857143, 'X[0] <= 0.068\\nmse = 0.087\\nsamples = 3\\nvalue = 20.4'),\n",
       " Text(32.51400422237861, 15.531428571428563, 'X[0] <= 0.001\\nmse = 0.01\\nsamples = 2\\nvalue = 20.2'),\n",
       " Text(31.571569317382128, 5.177142857142854, 'mse = 0.0\\nsamples = 1\\nvalue = 20.3'),\n",
       " Text(33.45643912737509, 5.177142857142854, 'mse = -0.0\\nsamples = 1\\nvalue = 20.1'),\n",
       " Text(34.39887403237157, 15.531428571428563, 'mse = 0.0\\nsamples = 1\\nvalue = 20.8'),\n",
       " Text(36.28374384236454, 36.24000000000001, 'X[5] <= 0.163\\nmse = 0.36\\nsamples = 2\\nvalue = 22.5'),\n",
       " Text(35.341308937368055, 25.8857142857143, 'mse = 0.0\\nsamples = 1\\nvalue = 23.1'),\n",
       " Text(37.22617874736102, 25.8857142857143, 'mse = 0.0\\nsamples = 1\\nvalue = 21.9'),\n",
       " Text(42.8807881773399, 56.94857142857143, 'X[5] <= 0.453\\nmse = 0.431\\nsamples = 7\\nvalue = 20.243'),\n",
       " Text(41.93835327234342, 46.59428571428572, 'X[5] <= 0.438\\nmse = 0.152\\nsamples = 6\\nvalue = 20.467'),\n",
       " Text(40.053483462350464, 36.24000000000001, 'X[2] <= 0.424\\nmse = 0.002\\nsamples = 2\\nvalue = 19.95'),\n",
       " Text(39.11104855735398, 25.8857142857143, 'mse = 0.0\\nsamples = 1\\nvalue = 20.0'),\n",
       " Text(40.99591836734694, 25.8857142857143, 'mse = 0.0\\nsamples = 1\\nvalue = 19.9'),\n",
       " Text(43.82322308233638, 36.24000000000001, 'X[5] <= 0.441\\nmse = 0.027\\nsamples = 4\\nvalue = 20.725'),\n",
       " Text(42.8807881773399, 25.8857142857143, 'mse = 0.0\\nsamples = 1\\nvalue = 21.0'),\n",
       " Text(44.765657987332865, 25.8857142857143, 'X[3] <= 0.5\\nmse = 0.002\\nsamples = 3\\nvalue = 20.633'),\n",
       " Text(43.82322308233638, 15.531428571428563, 'mse = 0.0\\nsamples = 2\\nvalue = 20.6'),\n",
       " Text(45.70809289232935, 15.531428571428563, 'mse = 0.0\\nsamples = 1\\nvalue = 20.7'),\n",
       " Text(43.82322308233638, 46.59428571428572, 'mse = -0.0\\nsamples = 1\\nvalue = 18.9'),\n",
       " Text(47.82857142857143, 108.72, 'X[5] <= 0.42\\nmse = 3.872\\nsamples = 21\\nvalue = 20.029'),\n",
       " Text(42.8807881773399, 98.36571428571429, 'X[9] <= 0.204\\nmse = 1.527\\nsamples = 4\\nvalue = 17.825'),\n",
       " Text(40.99591836734694, 88.01142857142858, 'X[5] <= 0.412\\nmse = 0.09\\nsamples = 2\\nvalue = 19.0'),\n",
       " Text(40.053483462350464, 77.65714285714284, 'mse = 0.0\\nsamples = 1\\nvalue = 19.3'),\n",
       " Text(41.93835327234342, 77.65714285714284, 'mse = 0.0\\nsamples = 1\\nvalue = 18.7'),\n",
       " Text(44.765657987332865, 88.01142857142858, 'X[11] <= 0.996\\nmse = 0.203\\nsamples = 2\\nvalue = 16.65'),\n",
       " Text(43.82322308233638, 77.65714285714284, 'mse = 0.0\\nsamples = 1\\nvalue = 17.1'),\n",
       " Text(45.70809289232935, 77.65714285714284, 'mse = 0.0\\nsamples = 1\\nvalue = 16.2'),\n",
       " Text(52.77635467980296, 98.36571428571429, 'X[2] <= 0.182\\nmse = 3.012\\nsamples = 17\\nvalue = 20.547'),\n",
       " Text(48.53539760731879, 88.01142857142858, 'X[5] <= 0.467\\nmse = 0.391\\nsamples = 7\\nvalue = 18.743'),\n",
       " Text(47.59296270232231, 77.65714285714284, 'X[8] <= 0.239\\nmse = 0.156\\nsamples = 6\\nvalue = 18.95'),\n",
       " Text(46.65052779732583, 67.30285714285714, 'X[5] <= 0.444\\nmse = 0.086\\nsamples = 5\\nvalue = 18.82'),\n",
       " Text(45.70809289232935, 56.94857142857143, 'mse = 0.0\\nsamples = 1\\nvalue = 19.3'),\n",
       " Text(47.59296270232231, 56.94857142857143, 'X[5] <= 0.463\\nmse = 0.035\\nsamples = 4\\nvalue = 18.7'),\n",
       " Text(46.65052779732583, 46.59428571428572, 'X[0] <= 0.0\\nmse = 0.007\\nsamples = 3\\nvalue = 18.6'),\n",
       " Text(45.70809289232935, 36.24000000000001, 'mse = 0.0\\nsamples = 1\\nvalue = 18.5'),\n",
       " Text(47.59296270232231, 36.24000000000001, 'X[1] <= 0.3\\nmse = 0.003\\nsamples = 2\\nvalue = 18.65'),\n",
       " Text(46.65052779732583, 25.8857142857143, 'mse = 0.0\\nsamples = 1\\nvalue = 18.7'),\n",
       " Text(48.53539760731879, 25.8857142857143, 'mse = 0.0\\nsamples = 1\\nvalue = 18.6'),\n",
       " Text(48.53539760731879, 46.59428571428572, 'mse = 0.0\\nsamples = 1\\nvalue = 19.0'),\n",
       " Text(48.53539760731879, 67.30285714285714, 'mse = -0.0\\nsamples = 1\\nvalue = 19.6'),\n",
       " Text(49.477832512315274, 77.65714285714284, 'mse = 0.0\\nsamples = 1\\nvalue = 17.5'),\n",
       " Text(57.01731175228713, 88.01142857142858, 'X[11] <= 0.997\\nmse = 0.973\\nsamples = 10\\nvalue = 21.81'),\n",
       " Text(54.19000703729768, 77.65714285714284, 'X[1] <= 0.205\\nmse = 0.564\\nsamples = 5\\nvalue = 21.1'),\n",
       " Text(53.2475721323012, 67.30285714285714, 'X[9] <= 0.156\\nmse = 0.093\\nsamples = 4\\nvalue = 21.45'),\n",
       " Text(51.36270232230824, 56.94857142857143, 'X[1] <= 0.1\\nmse = 0.003\\nsamples = 2\\nvalue = 21.15'),\n",
       " Text(50.420267417311756, 46.59428571428572, 'mse = 0.0\\nsamples = 1\\nvalue = 21.2'),\n",
       " Text(52.30513722730472, 46.59428571428572, 'mse = 0.0\\nsamples = 1\\nvalue = 21.1'),\n",
       " Text(55.132441942294165, 56.94857142857143, 'X[2] <= 0.513\\nmse = 0.003\\nsamples = 2\\nvalue = 21.75'),\n",
       " Text(54.19000703729768, 46.59428571428572, 'mse = 0.0\\nsamples = 1\\nvalue = 21.7'),\n",
       " Text(56.074876847290646, 46.59428571428572, 'mse = 0.0\\nsamples = 1\\nvalue = 21.8'),\n",
       " Text(55.132441942294165, 67.30285714285714, 'mse = -0.0\\nsamples = 1\\nvalue = 19.7'),\n",
       " Text(59.84461646727657, 77.65714285714284, 'X[4] <= 0.109\\nmse = 0.374\\nsamples = 5\\nvalue = 22.52'),\n",
       " Text(57.95974665728361, 67.30285714285714, 'X[11] <= 0.999\\nmse = 0.022\\nsamples = 2\\nvalue = 21.85'),\n",
       " Text(57.01731175228713, 56.94857142857143, 'mse = 0.0\\nsamples = 1\\nvalue = 22.0'),\n",
       " Text(58.90218156228009, 56.94857142857143, 'mse = -0.0\\nsamples = 1\\nvalue = 21.7'),\n",
       " Text(61.72948627726953, 67.30285714285714, 'X[7] <= 0.46\\nmse = 0.109\\nsamples = 3\\nvalue = 22.967'),\n",
       " Text(60.78705137227305, 56.94857142857143, 'X[5] <= 0.458\\nmse = 0.022\\nsamples = 2\\nvalue = 22.75'),\n",
       " Text(59.84461646727657, 46.59428571428572, 'mse = 0.0\\nsamples = 1\\nvalue = 22.6'),\n",
       " Text(61.72948627726953, 46.59428571428572, 'mse = 0.0\\nsamples = 1\\nvalue = 22.9'),\n",
       " Text(62.67192118226601, 56.94857142857143, 'mse = 0.0\\nsamples = 1\\nvalue = 23.4'),\n",
       " Text(50.655876143560874, 119.07428571428571, 'X[3] <= 0.5\\nmse = 4.623\\nsamples = 2\\nvalue = 17.45'),\n",
       " Text(49.71344123856439, 108.72, 'mse = 0.0\\nsamples = 1\\nvalue = 19.6'),\n",
       " Text(51.598311048557356, 108.72, 'mse = -0.0\\nsamples = 1\\nvalue = 15.3'),\n",
       " Text(84.23011963406053, 139.78285714285715, 'X[9] <= 0.057\\nmse = 5.571\\nsamples = 44\\nvalue = 22.405'),\n",
       " Text(83.28768472906404, 129.42857142857144, 'mse = 0.0\\nsamples = 1\\nvalue = 29.6'),\n",
       " Text(85.172554539057, 129.42857142857144, 'X[5] <= 0.568\\nmse = 4.469\\nsamples = 43\\nvalue = 22.237'),\n",
       " Text(84.23011963406053, 119.07428571428571, 'X[12] <= 0.228\\nmse = 3.773\\nsamples = 42\\nvalue = 22.374'),\n",
       " Text(71.38944405348347, 108.72, 'X[0] <= 0.001\\nmse = 4.656\\nsamples = 16\\nvalue = 23.425'),\n",
       " Text(66.44166080225195, 98.36571428571429, 'X[12] <= 0.194\\nmse = 0.973\\nsamples = 7\\nvalue = 21.571'),\n",
       " Text(63.61435608726249, 88.01142857142858, 'X[12] <= 0.178\\nmse = 0.137\\nsamples = 4\\nvalue = 22.275'),\n",
       " Text(62.67192118226601, 77.65714285714284, 'mse = 0.0\\nsamples = 1\\nvalue = 22.9'),\n",
       " Text(64.55679099225898, 77.65714285714284, 'X[2] <= 0.128\\nmse = 0.009\\nsamples = 3\\nvalue = 22.067'),\n",
       " Text(63.61435608726249, 67.30285714285714, 'mse = 0.0\\nsamples = 2\\nvalue = 22.0'),\n",
       " Text(65.49922589725546, 67.30285714285714, 'mse = -0.0\\nsamples = 1\\nvalue = 22.2'),\n",
       " Text(69.26896551724138, 88.01142857142858, 'X[4] <= 0.164\\nmse = 0.549\\nsamples = 3\\nvalue = 20.633'),\n",
       " Text(68.32653061224491, 77.65714285714284, 'X[4] <= 0.133\\nmse = 0.122\\nsamples = 2\\nvalue = 20.15'),\n",
       " Text(67.38409570724842, 67.30285714285714, 'mse = 0.0\\nsamples = 1\\nvalue = 20.5'),\n",
       " Text(69.26896551724138, 67.30285714285714, 'mse = 0.0\\nsamples = 1\\nvalue = 19.8'),\n",
       " Text(70.21140042223787, 77.65714285714284, 'mse = 0.0\\nsamples = 1\\nvalue = 21.6'),\n",
       " Text(76.337227304715, 98.36571428571429, 'X[11] <= 0.978\\nmse = 2.769\\nsamples = 9\\nvalue = 24.867'),\n",
       " Text(73.98114004222379, 88.01142857142858, 'X[9] <= 0.272\\nmse = 1.724\\nsamples = 5\\nvalue = 25.8'),\n",
       " Text(72.09627023223082, 77.65714285714284, 'X[8] <= 0.196\\nmse = 0.723\\nsamples = 2\\nvalue = 27.25'),\n",
       " Text(71.15383532723435, 67.30285714285714, 'mse = 0.0\\nsamples = 1\\nvalue = 28.1'),\n",
       " Text(73.03870513722731, 67.30285714285714, 'mse = 0.0\\nsamples = 1\\nvalue = 26.4'),\n",
       " Text(75.86600985221675, 77.65714285714284, 'X[7] <= 0.368\\nmse = 0.056\\nsamples = 3\\nvalue = 24.833'),\n",
       " Text(74.92357494722027, 67.30285714285714, 'mse = 0.0\\nsamples = 2\\nvalue = 25.0'),\n",
       " Text(76.80844475721324, 67.30285714285714, 'mse = 0.0\\nsamples = 1\\nvalue = 24.5'),\n",
       " Text(78.6933145672062, 88.01142857142858, 'X[7] <= 0.225\\nmse = 1.625\\nsamples = 4\\nvalue = 23.7'),\n",
       " Text(77.75087966220971, 77.65714285714284, 'mse = 0.0\\nsamples = 1\\nvalue = 21.6'),\n",
       " Text(79.63574947220268, 77.65714285714284, 'X[4] <= 0.16\\nmse = 0.207\\nsamples = 3\\nvalue = 24.4'),\n",
       " Text(78.6933145672062, 67.30285714285714, 'X[8] <= 0.196\\nmse = 0.04\\nsamples = 2\\nvalue = 24.1'),\n",
       " Text(77.75087966220971, 56.94857142857143, 'mse = 0.0\\nsamples = 1\\nvalue = 23.9'),\n",
       " Text(79.63574947220268, 56.94857142857143, 'mse = -0.0\\nsamples = 1\\nvalue = 24.3'),\n",
       " Text(80.57818437719916, 67.30285714285714, 'mse = 0.0\\nsamples = 1\\nvalue = 25.0'),\n",
       " Text(97.07079521463758, 108.72, 'X[5] <= 0.528\\nmse = 2.131\\nsamples = 26\\nvalue = 21.727'),\n",
       " Text(90.70935960591133, 98.36571428571429, 'X[5] <= 0.515\\nmse = 1.841\\nsamples = 17\\nvalue = 21.235'),\n",
       " Text(87.64644616467277, 88.01142857142858, 'X[8] <= 0.283\\nmse = 1.187\\nsamples = 14\\nvalue = 21.65'),\n",
       " Text(84.34792399718509, 77.65714285714284, 'X[7] <= 0.432\\nmse = 0.47\\nsamples = 8\\nvalue = 21.0'),\n",
       " Text(82.46305418719213, 67.30285714285714, 'X[7] <= 0.325\\nmse = 0.166\\nsamples = 5\\nvalue = 21.46'),\n",
       " Text(81.52061928219564, 56.94857142857143, 'X[11] <= 0.989\\nmse = 0.037\\nsamples = 4\\nvalue = 21.275'),\n",
       " Text(79.63574947220268, 46.59428571428572, 'X[7] <= 0.13\\nmse = 0.002\\nsamples = 2\\nvalue = 21.45'),\n",
       " Text(78.6933145672062, 36.24000000000001, 'mse = 0.0\\nsamples = 1\\nvalue = 21.5'),\n",
       " Text(80.57818437719916, 36.24000000000001, 'mse = 0.0\\nsamples = 1\\nvalue = 21.4'),\n",
       " Text(83.4054890921886, 46.59428571428572, 'X[7] <= 0.203\\nmse = 0.01\\nsamples = 2\\nvalue = 21.1'),\n",
       " Text(82.46305418719213, 36.24000000000001, 'mse = 0.0\\nsamples = 1\\nvalue = 21.2'),\n",
       " Text(84.34792399718509, 36.24000000000001, 'mse = -0.0\\nsamples = 1\\nvalue = 21.0'),\n",
       " Text(83.4054890921886, 56.94857142857143, 'mse = -0.0\\nsamples = 1\\nvalue = 22.2'),\n",
       " Text(86.23279380717806, 67.30285714285714, 'X[1] <= 0.26\\nmse = 0.036\\nsamples = 3\\nvalue = 20.233'),\n",
       " Text(85.29035890218157, 56.94857142857143, 'mse = 0.0\\nsamples = 1\\nvalue = 20.5'),\n",
       " Text(87.17522871217453, 56.94857142857143, 'mse = -0.0\\nsamples = 2\\nvalue = 20.1'),\n",
       " Text(90.94496833216046, 77.65714285714284, 'X[12] <= 0.308\\nmse = 0.828\\nsamples = 6\\nvalue = 22.517'),\n",
       " Text(90.00253342716398, 67.30285714285714, 'X[4] <= 0.277\\nmse = 0.307\\nsamples = 4\\nvalue = 23.075'),\n",
       " Text(89.0600985221675, 56.94857142857143, 'mse = 0.0\\nsamples = 1\\nvalue = 24.0'),\n",
       " Text(90.94496833216046, 56.94857142857143, 'X[5] <= 0.503\\nmse = 0.029\\nsamples = 3\\nvalue = 22.767'),\n",
       " Text(90.00253342716398, 46.59428571428572, 'X[5] <= 0.49\\nmse = 0.002\\nsamples = 2\\nvalue = 22.65'),\n",
       " Text(89.0600985221675, 36.24000000000001, 'mse = 0.0\\nsamples = 1\\nvalue = 22.6'),\n",
       " Text(90.94496833216046, 36.24000000000001, 'mse = 0.0\\nsamples = 1\\nvalue = 22.7'),\n",
       " Text(91.88740323715693, 46.59428571428572, 'mse = 0.0\\nsamples = 1\\nvalue = 23.0'),\n",
       " Text(91.88740323715693, 67.30285714285714, 'mse = -0.0\\nsamples = 2\\nvalue = 21.4'),\n",
       " Text(93.7722730471499, 88.01142857142858, 'X[10] <= 0.681\\nmse = 0.347\\nsamples = 3\\nvalue = 19.3'),\n",
       " Text(92.82983814215342, 77.65714285714284, 'mse = 0.0\\nsamples = 1\\nvalue = 18.5'),\n",
       " Text(94.71470795214638, 77.65714285714284, 'X[11] <= 0.942\\nmse = 0.04\\nsamples = 2\\nvalue = 19.7'),\n",
       " Text(93.7722730471499, 67.30285714285714, 'mse = 0.0\\nsamples = 1\\nvalue = 19.9'),\n",
       " Text(95.65714285714286, 67.30285714285714, 'mse = 0.0\\nsamples = 1\\nvalue = 19.5'),\n",
       " Text(103.43223082336384, 98.36571428571429, 'X[4] <= 0.564\\nmse = 1.36\\nsamples = 9\\nvalue = 22.656'),\n",
       " Text(100.84053483462351, 88.01142857142858, 'X[5] <= 0.533\\nmse = 0.52\\nsamples = 7\\nvalue = 23.143'),\n",
       " Text(98.48444757213231, 77.65714285714284, 'X[0] <= 0.014\\nmse = 0.09\\nsamples = 2\\nvalue = 24.1'),\n",
       " Text(97.54201266713582, 67.30285714285714, 'mse = 0.0\\nsamples = 1\\nvalue = 24.4'),\n",
       " Text(99.42688247712879, 67.30285714285714, 'mse = -0.0\\nsamples = 1\\nvalue = 23.8'),\n",
       " Text(103.19662209711471, 77.65714285714284, 'X[11] <= 0.965\\nmse = 0.178\\nsamples = 5\\nvalue = 22.76'),\n",
       " Text(101.31175228712175, 67.30285714285714, 'X[7] <= 0.32\\nmse = 0.002\\nsamples = 2\\nvalue = 22.25'),\n",
       " Text(100.36931738212527, 56.94857142857143, 'mse = 0.0\\nsamples = 1\\nvalue = 22.3'),\n",
       " Text(102.25418719211824, 56.94857142857143, 'mse = 0.0\\nsamples = 1\\nvalue = 22.2'),\n",
       " Text(105.08149190710768, 67.30285714285714, 'X[0] <= 0.003\\nmse = 0.007\\nsamples = 3\\nvalue = 23.1'),\n",
       " Text(104.1390570021112, 56.94857142857143, 'mse = 0.0\\nsamples = 1\\nvalue = 23.0'),\n",
       " Text(106.02392681210416, 56.94857142857143, 'X[5] <= 0.546\\nmse = 0.003\\nsamples = 2\\nvalue = 23.15'),\n",
       " Text(105.08149190710768, 46.59428571428572, 'mse = 0.0\\nsamples = 1\\nvalue = 23.1'),\n",
       " Text(106.96636171710064, 46.59428571428572, 'mse = 0.0\\nsamples = 1\\nvalue = 23.2'),\n",
       " Text(106.02392681210416, 88.01142857142858, 'X[7] <= 0.139\\nmse = 0.563\\nsamples = 2\\nvalue = 20.95'),\n",
       " Text(105.08149190710768, 77.65714285714284, 'mse = 0.0\\nsamples = 1\\nvalue = 21.7'),\n",
       " Text(106.96636171710064, 77.65714285714284, 'mse = 0.0\\nsamples = 1\\nvalue = 20.2'),\n",
       " Text(86.11498944405349, 119.07428571428571, 'mse = 0.0\\nsamples = 1\\nvalue = 16.5'),\n",
       " Text(105.78831808585504, 150.13714285714286, 'X[12] <= 0.172\\nmse = 5.159\\nsamples = 13\\nvalue = 18.946'),\n",
       " Text(104.84588318085856, 139.78285714285715, 'mse = 0.0\\nsamples = 1\\nvalue = 11.9'),\n",
       " Text(106.73075299085151, 139.78285714285715, 'X[11] <= 0.971\\nmse = 1.107\\nsamples = 12\\nvalue = 19.533'),\n",
       " Text(104.37466572836031, 129.42857142857144, 'X[2] <= 0.289\\nmse = 0.036\\nsamples = 3\\nvalue = 18.333'),\n",
       " Text(103.43223082336384, 119.07428571428571, 'mse = 0.0\\nsamples = 2\\nvalue = 18.2'),\n",
       " Text(105.3171006333568, 119.07428571428571, 'mse = 0.0\\nsamples = 1\\nvalue = 18.6'),\n",
       " Text(109.08684025334273, 129.42857142857144, 'X[6] <= 0.859\\nmse = 0.824\\nsamples = 9\\nvalue = 19.933'),\n",
       " Text(107.20197044334977, 119.07428571428571, 'X[5] <= 0.498\\nmse = 0.292\\nsamples = 4\\nvalue = 20.775'),\n",
       " Text(106.25953553835328, 108.72, 'X[9] <= 0.197\\nmse = 0.009\\nsamples = 3\\nvalue = 20.467'),\n",
       " Text(105.3171006333568, 98.36571428571429, 'mse = 0.0\\nsamples = 1\\nvalue = 20.6'),\n",
       " Text(107.20197044334977, 98.36571428571429, 'mse = -0.0\\nsamples = 2\\nvalue = 20.4'),\n",
       " Text(108.14440534834624, 108.72, 'mse = 0.0\\nsamples = 1\\nvalue = 21.7'),\n",
       " Text(110.97171006333569, 119.07428571428571, 'X[7] <= 0.282\\nmse = 0.23\\nsamples = 5\\nvalue = 19.26'),\n",
       " Text(110.0292751583392, 108.72, 'X[12] <= 0.295\\nmse = 0.057\\nsamples = 4\\nvalue = 19.475'),\n",
       " Text(109.08684025334273, 98.36571428571429, 'mse = 0.0\\nsamples = 1\\nvalue = 19.8'),\n",
       " Text(110.97171006333569, 98.36571428571429, 'X[2] <= 0.289\\nmse = 0.029\\nsamples = 3\\nvalue = 19.367'),\n",
       " Text(110.0292751583392, 88.01142857142858, 'mse = 0.0\\nsamples = 1\\nvalue = 19.6'),\n",
       " Text(111.91414496833217, 88.01142857142858, 'X[8] <= 0.152\\nmse = 0.003\\nsamples = 2\\nvalue = 19.25'),\n",
       " Text(110.97171006333569, 77.65714285714284, 'mse = 0.0\\nsamples = 1\\nvalue = 19.2'),\n",
       " Text(112.85657987332866, 77.65714285714284, 'mse = 0.0\\nsamples = 1\\nvalue = 19.3'),\n",
       " Text(111.91414496833217, 108.72, 'mse = -0.0\\nsamples = 1\\nvalue = 18.4'),\n",
       " Text(134.0024630541872, 170.84571428571428, 'X[12] <= 0.112\\nmse = 12.125\\nsamples = 41\\nvalue = 27.359'),\n",
       " Text(123.93019000703731, 160.49142857142857, 'X[10] <= 0.559\\nmse = 8.642\\nsamples = 14\\nvalue = 30.007'),\n",
       " Text(120.86727656579875, 150.13714285714286, 'X[11] <= 0.991\\nmse = 2.728\\nsamples = 10\\nvalue = 31.48'),\n",
       " Text(117.56875439831106, 139.78285714285715, 'X[5] <= 0.608\\nmse = 0.429\\nsamples = 6\\nvalue = 30.35'),\n",
       " Text(115.6838845883181, 129.42857142857144, 'X[2] <= 0.12\\nmse = 0.082\\nsamples = 3\\nvalue = 29.767'),\n",
       " Text(114.74144968332162, 119.07428571428571, 'X[7] <= 0.656\\nmse = 0.023\\nsamples = 2\\nvalue = 29.95'),\n",
       " Text(113.79901477832513, 108.72, 'mse = 0.0\\nsamples = 1\\nvalue = 29.8'),\n",
       " Text(115.6838845883181, 108.72, 'mse = -0.0\\nsamples = 1\\nvalue = 30.1'),\n",
       " Text(116.62631949331457, 119.07428571428571, 'mse = -0.0\\nsamples = 1\\nvalue = 29.4'),\n",
       " Text(119.45362420830402, 129.42857142857144, 'X[0] <= 0.0\\nmse = 0.096\\nsamples = 3\\nvalue = 30.933'),\n",
       " Text(118.51118930330753, 119.07428571428571, 'X[1] <= 0.575\\nmse = 0.002\\nsamples = 2\\nvalue = 31.15'),\n",
       " Text(117.56875439831106, 108.72, 'mse = 0.0\\nsamples = 1\\nvalue = 31.2'),\n",
       " Text(119.45362420830402, 108.72, 'mse = 0.0\\nsamples = 1\\nvalue = 31.1'),\n",
       " Text(120.3960591133005, 119.07428571428571, 'mse = 0.0\\nsamples = 1\\nvalue = 30.5'),\n",
       " Text(124.16579873328642, 139.78285714285715, 'X[0] <= 0.002\\nmse = 1.387\\nsamples = 4\\nvalue = 33.175'),\n",
       " Text(123.22336382828995, 129.42857142857144, 'X[6] <= 0.333\\nmse = 0.202\\nsamples = 3\\nvalue = 32.533'),\n",
       " Text(122.28092892329346, 119.07428571428571, 'mse = 0.0\\nsamples = 1\\nvalue = 33.1'),\n",
       " Text(124.16579873328642, 119.07428571428571, 'X[12] <= 0.072\\nmse = 0.062\\nsamples = 2\\nvalue = 32.25'),\n",
       " Text(123.22336382828995, 108.72, 'mse = 0.0\\nsamples = 1\\nvalue = 32.0'),\n",
       " Text(125.10823363828291, 108.72, 'mse = 0.0\\nsamples = 1\\nvalue = 32.5'),\n",
       " Text(125.10823363828291, 129.42857142857144, 'mse = 0.0\\nsamples = 1\\nvalue = 35.1'),\n",
       " Text(126.99310344827587, 150.13714285714286, 'X[7] <= 0.281\\nmse = 4.447\\nsamples = 4\\nvalue = 26.325'),\n",
       " Text(126.05066854327939, 139.78285714285715, 'mse = 0.0\\nsamples = 1\\nvalue = 22.8'),\n",
       " Text(127.93553835327235, 139.78285714285715, 'X[6] <= 0.106\\nmse = 0.407\\nsamples = 3\\nvalue = 27.5'),\n",
       " Text(126.99310344827587, 129.42857142857144, 'mse = 0.0\\nsamples = 1\\nvalue = 26.6'),\n",
       " Text(128.87797325826884, 129.42857142857144, 'X[12] <= 0.09\\nmse = 0.002\\nsamples = 2\\nvalue = 27.95'),\n",
       " Text(127.93553835327235, 119.07428571428571, 'mse = 0.0\\nsamples = 1\\nvalue = 27.9'),\n",
       " Text(129.8204081632653, 119.07428571428571, 'mse = -0.0\\nsamples = 1\\nvalue = 28.0'),\n",
       " Text(144.0747361013371, 160.49142857142857, 'X[7] <= 0.258\\nmse = 8.407\\nsamples = 27\\nvalue = 25.985'),\n",
       " Text(137.83110485573542, 150.13714285714286, 'X[2] <= 0.321\\nmse = 9.042\\nsamples = 12\\nvalue = 27.6'),\n",
       " Text(134.53258268824771, 139.78285714285715, 'X[12] <= 0.18\\nmse = 2.125\\nsamples = 8\\nvalue = 29.238'),\n",
       " Text(132.64771287825477, 129.42857142857144, 'X[7] <= 0.228\\nmse = 1.308\\nsamples = 5\\nvalue = 30.1'),\n",
       " Text(131.7052779732583, 119.07428571428571, 'X[7] <= 0.205\\nmse = 0.507\\nsamples = 4\\nvalue = 29.625'),\n",
       " Text(130.7628430682618, 108.72, 'X[5] <= 0.63\\nmse = 0.009\\nsamples = 3\\nvalue = 30.033'),\n",
       " Text(129.8204081632653, 98.36571428571429, 'mse = 0.0\\nsamples = 2\\nvalue = 30.1'),\n",
       " Text(131.7052779732583, 98.36571428571429, 'mse = 0.0\\nsamples = 1\\nvalue = 29.9'),\n",
       " Text(132.64771287825477, 108.72, 'mse = -0.0\\nsamples = 1\\nvalue = 28.4'),\n",
       " Text(133.59014778325124, 119.07428571428571, 'mse = 0.0\\nsamples = 1\\nvalue = 32.0'),\n",
       " Text(136.4174524982407, 129.42857142857144, 'X[12] <= 0.205\\nmse = 0.18\\nsamples = 3\\nvalue = 27.8'),\n",
       " Text(135.47501759324422, 119.07428571428571, 'mse = 0.0\\nsamples = 1\\nvalue = 28.4'),\n",
       " Text(137.35988740323717, 119.07428571428571, 'mse = -0.0\\nsamples = 2\\nvalue = 27.5'),\n",
       " Text(141.1296270232231, 139.78285714285715, 'X[2] <= 0.456\\nmse = 6.787\\nsamples = 4\\nvalue = 24.325'),\n",
       " Text(140.18719211822662, 129.42857142857144, 'X[4] <= 0.33\\nmse = 0.542\\nsamples = 3\\nvalue = 22.867'),\n",
       " Text(139.24475721323012, 119.07428571428571, 'mse = 0.0\\nsamples = 1\\nvalue = 23.8'),\n",
       " Text(141.1296270232231, 119.07428571428571, 'X[12] <= 0.182\\nmse = 0.16\\nsamples = 2\\nvalue = 22.4'),\n",
       " Text(140.18719211822662, 108.72, 'mse = 0.0\\nsamples = 1\\nvalue = 22.0'),\n",
       " Text(142.07206192821957, 108.72, 'mse = 0.0\\nsamples = 1\\nvalue = 22.8'),\n",
       " Text(142.07206192821957, 129.42857142857144, 'mse = -0.0\\nsamples = 1\\nvalue = 28.7'),\n",
       " Text(150.3183673469388, 150.13714285714286, 'X[12] <= 0.241\\nmse = 4.145\\nsamples = 15\\nvalue = 24.693'),\n",
       " Text(147.25545390570022, 139.78285714285715, 'X[1] <= 0.235\\nmse = 2.934\\nsamples = 13\\nvalue = 25.185'),\n",
       " Text(143.95693173821255, 129.42857142857144, 'X[12] <= 0.129\\nmse = 1.318\\nsamples = 5\\nvalue = 26.72'),\n",
       " Text(143.01449683321604, 119.07428571428571, 'mse = 0.0\\nsamples = 1\\nvalue = 28.6'),\n",
       " Text(144.89936664320902, 119.07428571428571, 'X[7] <= 0.288\\nmse = 0.543\\nsamples = 4\\nvalue = 26.25'),\n",
       " Text(143.95693173821255, 108.72, 'mse = 0.0\\nsamples = 1\\nvalue = 25.1'),\n",
       " Text(145.8418015482055, 108.72, 'X[0] <= 0.001\\nmse = 0.136\\nsamples = 3\\nvalue = 26.633'),\n",
       " Text(144.89936664320902, 98.36571428571429, 'mse = 0.0\\nsamples = 1\\nvalue = 27.1'),\n",
       " Text(146.78423645320197, 98.36571428571429, 'X[10] <= 0.66\\nmse = 0.04\\nsamples = 2\\nvalue = 26.4'),\n",
       " Text(145.8418015482055, 88.01142857142858, 'mse = 0.0\\nsamples = 1\\nvalue = 26.6'),\n",
       " Text(147.72667135819847, 88.01142857142858, 'mse = 0.0\\nsamples = 1\\nvalue = 26.2'),\n",
       " Text(150.5539760731879, 129.42857142857144, 'X[7] <= 0.511\\nmse = 1.549\\nsamples = 8\\nvalue = 24.225'),\n",
       " Text(148.66910626319495, 119.07428571428571, 'X[5] <= 0.582\\nmse = 0.602\\nsamples = 4\\nvalue = 23.275'),\n",
       " Text(147.72667135819847, 108.72, 'mse = 0.0\\nsamples = 1\\nvalue = 22.0'),\n",
       " Text(149.61154116819142, 108.72, 'X[10] <= 0.479\\nmse = 0.08\\nsamples = 3\\nvalue = 23.7'),\n",
       " Text(148.66910626319495, 98.36571428571429, 'mse = 0.0\\nsamples = 1\\nvalue = 23.3'),\n",
       " Text(150.5539760731879, 98.36571428571429, 'mse = 0.0\\nsamples = 2\\nvalue = 23.9'),\n",
       " Text(152.43884588318087, 119.07428571428571, 'X[2] <= 0.043\\nmse = 0.692\\nsamples = 4\\nvalue = 25.175'),\n",
       " Text(151.4964109781844, 108.72, 'mse = 0.0\\nsamples = 1\\nvalue = 26.6'),\n",
       " Text(153.38128078817735, 108.72, 'X[11] <= 0.985\\nmse = 0.02\\nsamples = 3\\nvalue = 24.7'),\n",
       " Text(152.43884588318087, 98.36571428571429, 'mse = 0.0\\nsamples = 2\\nvalue = 24.8'),\n",
       " Text(154.32371569317382, 98.36571428571429, 'mse = -0.0\\nsamples = 1\\nvalue = 24.5'),\n",
       " Text(153.38128078817735, 139.78285714285715, 'X[1] <= 0.15\\nmse = 0.25\\nsamples = 2\\nvalue = 21.5'),\n",
       " Text(152.43884588318087, 129.42857142857144, 'mse = 0.0\\nsamples = 1\\nvalue = 21.0'),\n",
       " Text(154.32371569317382, 129.42857142857144, 'mse = 0.0\\nsamples = 1\\nvalue = 22.0'),\n",
       " Text(209.456157635468, 191.5542857142857, 'X[7] <= 0.086\\nmse = 19.151\\nsamples = 114\\nvalue = 14.797'),\n",
       " Text(178.72394440534836, 181.2, 'X[0] <= 0.077\\nmse = 12.162\\nsamples = 62\\nvalue = 12.266'),\n",
       " Text(163.8658691062632, 170.84571428571428, 'X[5] <= 0.358\\nmse = 6.82\\nsamples = 22\\nvalue = 15.041'),\n",
       " Text(158.09345531315975, 160.49142857142857, 'X[4] <= 0.476\\nmse = 4.836\\nsamples = 6\\nvalue = 12.567'),\n",
       " Text(157.15102040816328, 150.13714285714286, 'mse = 0.0\\nsamples = 1\\nvalue = 8.1'),\n",
       " Text(159.03589021815623, 150.13714285714286, 'X[12] <= 0.764\\nmse = 1.014\\nsamples = 5\\nvalue = 13.46'),\n",
       " Text(157.15102040816328, 139.78285714285715, 'X[5] <= 0.292\\nmse = 0.482\\nsamples = 3\\nvalue = 12.767'),\n",
       " Text(156.2085855031668, 129.42857142857144, 'mse = 0.0\\nsamples = 1\\nvalue = 11.8'),\n",
       " Text(158.09345531315975, 129.42857142857144, 'X[7] <= 0.036\\nmse = 0.023\\nsamples = 2\\nvalue = 13.25'),\n",
       " Text(157.15102040816328, 119.07428571428571, 'mse = 0.0\\nsamples = 1\\nvalue = 13.4'),\n",
       " Text(159.03589021815623, 119.07428571428571, 'mse = -0.0\\nsamples = 1\\nvalue = 13.1'),\n",
       " Text(160.9207600281492, 139.78285714285715, 'X[8] <= 0.152\\nmse = 0.01\\nsamples = 2\\nvalue = 14.5'),\n",
       " Text(159.97832512315273, 129.42857142857144, 'mse = 0.0\\nsamples = 1\\nvalue = 14.4'),\n",
       " Text(161.86319493314568, 129.42857142857144, 'mse = -0.0\\nsamples = 1\\nvalue = 14.6'),\n",
       " Text(169.63828289936666, 160.49142857142857, 'X[6] <= 0.884\\nmse = 4.407\\nsamples = 16\\nvalue = 15.969'),\n",
       " Text(168.69584799437018, 150.13714285714286, 'mse = 0.0\\nsamples = 1\\nvalue = 21.4'),\n",
       " Text(170.58071780436313, 150.13714285714286, 'X[12] <= 0.435\\nmse = 2.603\\nsamples = 15\\nvalue = 15.607'),\n",
       " Text(165.6329345531316, 139.78285714285715, 'X[5] <= 0.419\\nmse = 0.72\\nsamples = 5\\nvalue = 16.8'),\n",
       " Text(163.74806474313866, 129.42857142857144, 'X[4] <= 0.746\\nmse = 0.09\\nsamples = 2\\nvalue = 15.9'),\n",
       " Text(162.80562983814215, 119.07428571428571, 'mse = 0.0\\nsamples = 1\\nvalue = 16.2'),\n",
       " Text(164.69049964813513, 119.07428571428571, 'mse = 0.0\\nsamples = 1\\nvalue = 15.6'),\n",
       " Text(167.51780436312458, 129.42857142857144, 'X[3] <= 0.5\\nmse = 0.24\\nsamples = 3\\nvalue = 17.4'),\n",
       " Text(166.57536945812808, 119.07428571428571, 'X[0] <= 0.004\\nmse = 0.09\\nsamples = 2\\nvalue = 17.7'),\n",
       " Text(165.6329345531316, 108.72, 'mse = 0.0\\nsamples = 1\\nvalue = 17.4'),\n",
       " Text(167.51780436312458, 108.72, 'mse = 0.0\\nsamples = 1\\nvalue = 18.0'),\n",
       " Text(168.46023926812106, 119.07428571428571, 'mse = -0.0\\nsamples = 1\\nvalue = 16.8'),\n",
       " Text(175.52850105559466, 139.78285714285715, 'X[5] <= 0.539\\nmse = 2.477\\nsamples = 10\\nvalue = 15.01'),\n",
       " Text(174.58606615059819, 129.42857142857144, 'X[6] <= 0.98\\nmse = 1.974\\nsamples = 9\\nvalue = 15.289'),\n",
       " Text(171.2875439831105, 119.07428571428571, 'X[6] <= 0.966\\nmse = 1.638\\nsamples = 6\\nvalue = 15.817'),\n",
       " Text(169.40267417311753, 108.72, 'X[10] <= 0.862\\nmse = 0.172\\nsamples = 4\\nvalue = 14.95'),\n",
       " Text(168.46023926812106, 98.36571428571429, 'X[2] <= 0.674\\nmse = 0.042\\nsamples = 3\\nvalue = 15.167'),\n",
       " Text(167.51780436312458, 88.01142857142858, 'mse = 0.0\\nsamples = 1\\nvalue = 14.9'),\n",
       " Text(169.40267417311753, 88.01142857142858, 'X[12] <= 0.497\\nmse = 0.01\\nsamples = 2\\nvalue = 15.3'),\n",
       " Text(168.46023926812106, 77.65714285714284, 'mse = 0.0\\nsamples = 1\\nvalue = 15.2'),\n",
       " Text(170.345109078114, 77.65714285714284, 'mse = 0.0\\nsamples = 1\\nvalue = 15.4'),\n",
       " Text(170.345109078114, 98.36571428571429, 'mse = -0.0\\nsamples = 1\\nvalue = 14.3'),\n",
       " Text(173.17241379310346, 108.72, 'X[5] <= 0.468\\nmse = 0.063\\nsamples = 2\\nvalue = 17.55'),\n",
       " Text(172.22997888810698, 98.36571428571429, 'mse = 0.0\\nsamples = 1\\nvalue = 17.3'),\n",
       " Text(174.11484869809993, 98.36571428571429, 'mse = 0.0\\nsamples = 1\\nvalue = 17.8'),\n",
       " Text(177.88458831808586, 119.07428571428571, 'X[0] <= 0.036\\nmse = 0.976\\nsamples = 3\\nvalue = 14.233'),\n",
       " Text(176.9421534130894, 108.72, 'X[12] <= 0.63\\nmse = 0.062\\nsamples = 2\\nvalue = 13.55'),\n",
       " Text(175.9997185080929, 98.36571428571429, 'mse = 0.0\\nsamples = 1\\nvalue = 13.3'),\n",
       " Text(177.88458831808586, 98.36571428571429, 'mse = 0.0\\nsamples = 1\\nvalue = 13.8'),\n",
       " Text(178.82702322308234, 108.72, 'mse = -0.0\\nsamples = 1\\nvalue = 15.6'),\n",
       " Text(176.47093596059113, 129.42857142857144, 'mse = -0.0\\nsamples = 1\\nvalue = 12.5'),\n",
       " Text(193.58201970443352, 170.84571428571428, 'X[4] <= 0.597\\nmse = 8.536\\nsamples = 40\\nvalue = 10.74'),\n",
       " Text(186.83771991555244, 160.49142857142857, 'X[0] <= 0.294\\nmse = 3.082\\nsamples = 11\\nvalue = 12.973'),\n",
       " Text(185.89528501055597, 150.13714285714286, 'X[5] <= 0.522\\nmse = 2.172\\nsamples = 10\\nvalue = 12.64'),\n",
       " Text(183.53919774806477, 139.78285714285715, 'X[12] <= 0.754\\nmse = 2.172\\nsamples = 6\\nvalue = 11.933'),\n",
       " Text(182.59676284306826, 129.42857142857144, 'X[5] <= 0.41\\nmse = 0.645\\nsamples = 4\\nvalue = 11.0'),\n",
       " Text(181.6543279380718, 119.07428571428571, 'X[7] <= 0.045\\nmse = 0.01\\nsamples = 2\\nvalue = 11.8'),\n",
       " Text(180.7118930330753, 108.72, 'mse = 0.0\\nsamples = 1\\nvalue = 11.9'),\n",
       " Text(182.59676284306826, 108.72, 'mse = -0.0\\nsamples = 1\\nvalue = 11.7'),\n",
       " Text(183.53919774806477, 119.07428571428571, 'mse = 0.0\\nsamples = 2\\nvalue = 10.2'),\n",
       " Text(184.48163265306124, 129.42857142857144, 'mse = 0.0\\nsamples = 2\\nvalue = 13.8'),\n",
       " Text(188.25137227304717, 139.78285714285715, 'X[6] <= 0.946\\nmse = 0.3\\nsamples = 4\\nvalue = 13.7'),\n",
       " Text(186.3665024630542, 129.42857142857144, 'X[7] <= 0.052\\nmse = 0.09\\nsamples = 2\\nvalue = 14.2'),\n",
       " Text(185.42406755805771, 119.07428571428571, 'mse = 0.0\\nsamples = 1\\nvalue = 13.9'),\n",
       " Text(187.3089373680507, 119.07428571428571, 'mse = 0.0\\nsamples = 1\\nvalue = 14.5'),\n",
       " Text(190.13624208304012, 129.42857142857144, 'X[7] <= 0.022\\nmse = 0.01\\nsamples = 2\\nvalue = 13.2'),\n",
       " Text(189.19380717804364, 119.07428571428571, 'mse = 0.0\\nsamples = 1\\nvalue = 13.3'),\n",
       " Text(191.07867698803662, 119.07428571428571, 'mse = 0.0\\nsamples = 1\\nvalue = 13.1'),\n",
       " Text(187.78015482054892, 150.13714285714286, 'mse = 0.0\\nsamples = 1\\nvalue = 16.3'),\n",
       " Text(200.32631949331457, 160.49142857142857, 'X[12] <= 0.485\\nmse = 7.997\\nsamples = 29\\nvalue = 9.893'),\n",
       " Text(194.84841660802255, 150.13714285714286, 'X[5] <= 0.526\\nmse = 4.108\\nsamples = 5\\nvalue = 13.9'),\n",
       " Text(192.96354679802957, 139.78285714285715, 'X[6] <= 0.852\\nmse = 1.429\\nsamples = 3\\nvalue = 12.467'),\n",
       " Text(192.0211118930331, 129.42857142857144, 'mse = 0.0\\nsamples = 1\\nvalue = 10.9'),\n",
       " Text(193.90598170302604, 129.42857142857144, 'X[6] <= 0.935\\nmse = 0.303\\nsamples = 2\\nvalue = 13.25'),\n",
       " Text(192.96354679802957, 119.07428571428571, 'mse = 0.0\\nsamples = 1\\nvalue = 13.8'),\n",
       " Text(194.84841660802255, 119.07428571428571, 'mse = 0.0\\nsamples = 1\\nvalue = 12.7'),\n",
       " Text(196.7332864180155, 139.78285714285715, 'X[0] <= 0.118\\nmse = 0.422\\nsamples = 2\\nvalue = 16.05'),\n",
       " Text(195.79085151301902, 129.42857142857144, 'mse = 0.0\\nsamples = 1\\nvalue = 15.4'),\n",
       " Text(197.67572132301197, 129.42857142857144, 'mse = -0.0\\nsamples = 1\\nvalue = 16.7'),\n",
       " Text(205.80422237860662, 150.13714285714286, 'X[0] <= 0.11\\nmse = 4.765\\nsamples = 24\\nvalue = 9.058'),\n",
       " Text(200.50302603800142, 139.78285714285715, 'X[12] <= 0.507\\nmse = 1.857\\nsamples = 8\\nvalue = 11.125'),\n",
       " Text(199.56059113300495, 129.42857142857144, 'mse = 0.0\\nsamples = 1\\nvalue = 8.5'),\n",
       " Text(201.4454609429979, 129.42857142857144, 'X[7] <= 0.075\\nmse = 0.997\\nsamples = 7\\nvalue = 11.5'),\n",
       " Text(200.50302603800142, 119.07428571428571, 'X[0] <= 0.104\\nmse = 0.386\\nsamples = 6\\nvalue = 11.833'),\n",
       " Text(198.61815622800844, 108.72, 'X[7] <= 0.039\\nmse = 0.232\\nsamples = 4\\nvalue = 11.525'),\n",
       " Text(197.67572132301197, 98.36571428571429, 'mse = 0.0\\nsamples = 1\\nvalue = 12.3'),\n",
       " Text(199.56059113300495, 98.36571428571429, 'X[7] <= 0.064\\nmse = 0.042\\nsamples = 3\\nvalue = 11.267'),\n",
       " Text(198.61815622800844, 88.01142857142858, 'X[0] <= 0.097\\nmse = 0.01\\nsamples = 2\\nvalue = 11.4'),\n",
       " Text(197.67572132301197, 77.65714285714284, 'mse = 0.0\\nsamples = 1\\nvalue = 11.5'),\n",
       " Text(199.56059113300495, 77.65714285714284, 'mse = -0.0\\nsamples = 1\\nvalue = 11.3'),\n",
       " Text(200.50302603800142, 88.01142857142858, 'mse = 0.0\\nsamples = 1\\nvalue = 11.0'),\n",
       " Text(202.38789584799437, 108.72, 'X[5] <= 0.47\\nmse = 0.122\\nsamples = 2\\nvalue = 12.45'),\n",
       " Text(201.4454609429979, 98.36571428571429, 'mse = 0.0\\nsamples = 1\\nvalue = 12.8'),\n",
       " Text(203.33033075299087, 98.36571428571429, 'mse = 0.0\\nsamples = 1\\nvalue = 12.1'),\n",
       " Text(202.38789584799437, 119.07428571428571, 'mse = 0.0\\nsamples = 1\\nvalue = 9.5'),\n",
       " Text(211.10541871921183, 139.78285714285715, 'X[4] <= 0.641\\nmse = 3.016\\nsamples = 16\\nvalue = 8.025'),\n",
       " Text(207.1000703729768, 129.42857142857144, 'X[0] <= 0.28\\nmse = 1.264\\nsamples = 8\\nvalue = 6.925'),\n",
       " Text(205.21520056298382, 119.07428571428571, 'X[7] <= 0.037\\nmse = 0.482\\nsamples = 6\\nvalue = 7.467'),\n",
       " Text(204.27276565798735, 108.72, 'mse = 0.0\\nsamples = 1\\nvalue = 6.3'),\n",
       " Text(206.1576354679803, 108.72, 'X[5] <= 0.49\\nmse = 0.252\\nsamples = 5\\nvalue = 7.7'),\n",
       " Text(205.21520056298382, 98.36571428571429, 'mse = 0.0\\nsamples = 2\\nvalue = 8.3'),\n",
       " Text(207.1000703729768, 98.36571428571429, 'X[6] <= 0.953\\nmse = 0.02\\nsamples = 3\\nvalue = 7.3'),\n",
       " Text(206.1576354679803, 88.01142857142858, 'mse = 0.0\\nsamples = 1\\nvalue = 7.5'),\n",
       " Text(208.04250527797328, 88.01142857142858, 'mse = 0.0\\nsamples = 2\\nvalue = 7.2'),\n",
       " Text(208.98494018296975, 119.07428571428571, 'X[11] <= 0.985\\nmse = 0.09\\nsamples = 2\\nvalue = 5.3'),\n",
       " Text(208.04250527797328, 108.72, 'mse = 0.0\\nsamples = 1\\nvalue = 5.0'),\n",
       " Text(209.92737508796623, 108.72, 'mse = 0.0\\nsamples = 1\\nvalue = 5.6'),\n",
       " Text(215.11076706544688, 129.42857142857144, 'X[12] <= 0.765\\nmse = 2.347\\nsamples = 8\\nvalue = 9.125'),\n",
       " Text(212.75467980295568, 119.07428571428571, 'X[5] <= 0.59\\nmse = 1.485\\nsamples = 4\\nvalue = 10.3'),\n",
       " Text(211.8122448979592, 108.72, 'X[11] <= 0.547\\nmse = 0.376\\nsamples = 3\\nvalue = 10.933'),\n",
       " Text(210.86980999296273, 98.36571428571429, 'mse = 0.0\\nsamples = 1\\nvalue = 11.8'),\n",
       " Text(212.75467980295568, 98.36571428571429, 'mse = 0.0\\nsamples = 2\\nvalue = 10.5'),\n",
       " Text(213.69711470795215, 108.72, 'mse = 0.0\\nsamples = 1\\nvalue = 8.4'),\n",
       " Text(217.46685432793808, 119.07428571428571, 'X[11] <= 0.86\\nmse = 0.448\\nsamples = 4\\nvalue = 7.95'),\n",
       " Text(215.58198451794513, 108.72, 'X[6] <= 0.892\\nmse = 0.04\\nsamples = 2\\nvalue = 8.6'),\n",
       " Text(214.63954961294866, 98.36571428571429, 'mse = 0.0\\nsamples = 1\\nvalue = 8.4'),\n",
       " Text(216.5244194229416, 98.36571428571429, 'mse = -0.0\\nsamples = 1\\nvalue = 8.8'),\n",
       " Text(219.35172413793106, 108.72, 'X[6] <= 0.936\\nmse = 0.01\\nsamples = 2\\nvalue = 7.3'),\n",
       " Text(218.40928923293455, 98.36571428571429, 'mse = 0.0\\nsamples = 1\\nvalue = 7.4'),\n",
       " Text(220.29415904292753, 98.36571428571429, 'mse = -0.0\\nsamples = 1\\nvalue = 7.2'),\n",
       " Text(240.18837086558764, 181.2, 'X[11] <= 0.812\\nmse = 10.738\\nsamples = 52\\nvalue = 17.815'),\n",
       " Text(226.18437719915553, 170.84571428571428, 'X[12] <= 0.432\\nmse = 2.874\\nsamples = 14\\nvalue = 14.514'),\n",
       " Text(222.17902885292048, 160.49142857142857, 'X[4] <= 0.615\\nmse = 3.319\\nsamples = 6\\nvalue = 15.867'),\n",
       " Text(219.82294159042928, 150.13714285714286, 'X[12] <= 0.427\\nmse = 2.65\\nsamples = 4\\nvalue = 16.7'),\n",
       " Text(217.93807178043633, 139.78285714285715, 'X[4] <= 0.504\\nmse = 0.64\\nsamples = 2\\nvalue = 18.2'),\n",
       " Text(216.99563687543986, 129.42857142857144, 'mse = 0.0\\nsamples = 1\\nvalue = 17.4'),\n",
       " Text(218.8805066854328, 129.42857142857144, 'mse = 0.0\\nsamples = 1\\nvalue = 19.0'),\n",
       " Text(221.70781140042226, 139.78285714285715, 'X[11] <= 0.717\\nmse = 0.16\\nsamples = 2\\nvalue = 15.2'),\n",
       " Text(220.76537649542578, 129.42857142857144, 'mse = 0.0\\nsamples = 1\\nvalue = 15.6'),\n",
       " Text(222.65024630541873, 129.42857142857144, 'mse = 0.0\\nsamples = 1\\nvalue = 14.8'),\n",
       " Text(224.5351161154117, 150.13714285714286, 'X[0] <= 0.09\\nmse = 0.49\\nsamples = 2\\nvalue = 14.2'),\n",
       " Text(223.5926812104152, 139.78285714285715, 'mse = 0.0\\nsamples = 1\\nvalue = 14.9'),\n",
       " Text(225.47755102040819, 139.78285714285715, 'mse = 0.0\\nsamples = 1\\nvalue = 13.5'),\n",
       " Text(230.1897255453906, 160.49142857142857, 'X[11] <= 0.24\\nmse = 0.14\\nsamples = 8\\nvalue = 13.5'),\n",
       " Text(228.3048557353976, 150.13714285714286, 'X[11] <= 0.064\\nmse = 0.109\\nsamples = 3\\nvalue = 13.867'),\n",
       " Text(227.36242083040113, 139.78285714285715, 'mse = 0.0\\nsamples = 1\\nvalue = 13.4'),\n",
       " Text(229.2472906403941, 139.78285714285715, 'mse = 0.0\\nsamples = 2\\nvalue = 14.1'),\n",
       " Text(232.07459535538354, 150.13714285714286, 'X[12] <= 0.499\\nmse = 0.03\\nsamples = 5\\nvalue = 13.28'),\n",
       " Text(231.13216045038706, 139.78285714285715, 'mse = 0.0\\nsamples = 1\\nvalue = 13.0'),\n",
       " Text(233.01703026038004, 139.78285714285715, 'X[12] <= 0.606\\nmse = 0.012\\nsamples = 4\\nvalue = 13.35'),\n",
       " Text(231.13216045038706, 129.42857142857144, 'X[8] <= 0.565\\nmse = 0.003\\nsamples = 2\\nvalue = 13.45'),\n",
       " Text(230.1897255453906, 119.07428571428571, 'mse = 0.0\\nsamples = 1\\nvalue = 13.5'),\n",
       " Text(232.07459535538354, 119.07428571428571, 'mse = 0.0\\nsamples = 1\\nvalue = 13.4'),\n",
       " Text(234.901900070373, 129.42857142857144, 'X[8] <= 0.565\\nmse = 0.002\\nsamples = 2\\nvalue = 13.25'),\n",
       " Text(233.9594651653765, 119.07428571428571, 'mse = 0.0\\nsamples = 1\\nvalue = 13.2'),\n",
       " Text(235.84433497536946, 119.07428571428571, 'mse = 0.0\\nsamples = 1\\nvalue = 13.3'),\n",
       " Text(254.19236453201972, 170.84571428571428, 'X[6] <= 0.845\\nmse = 8.141\\nsamples = 38\\nvalue = 19.032'),\n",
       " Text(245.73990147783252, 160.49142857142857, 'X[11] <= 0.994\\nmse = 3.146\\nsamples = 16\\nvalue = 20.7'),\n",
       " Text(241.9701618578466, 150.13714285714286, 'X[0] <= 0.062\\nmse = 2.728\\nsamples = 9\\nvalue = 21.689'),\n",
       " Text(241.02772695285012, 139.78285714285715, 'X[10] <= 0.596\\nmse = 1.045\\nsamples = 7\\nvalue = 22.429'),\n",
       " Text(238.67163969035892, 129.42857142857144, 'X[4] <= 0.31\\nmse = 0.423\\nsamples = 2\\nvalue = 21.05'),\n",
       " Text(237.72920478536244, 119.07428571428571, 'mse = 0.0\\nsamples = 1\\nvalue = 21.7'),\n",
       " Text(239.6140745953554, 119.07428571428571, 'mse = 0.0\\nsamples = 1\\nvalue = 20.4'),\n",
       " Text(243.38381421534132, 129.42857142857144, 'X[7] <= 0.226\\nmse = 0.23\\nsamples = 5\\nvalue = 22.98'),\n",
       " Text(241.49894440534837, 119.07428571428571, 'X[5] <= 0.379\\nmse = 0.069\\nsamples = 3\\nvalue = 23.333'),\n",
       " Text(240.5565095003519, 108.72, 'mse = 0.0\\nsamples = 1\\nvalue = 23.7'),\n",
       " Text(242.44137931034484, 108.72, 'X[0] <= 0.031\\nmse = 0.003\\nsamples = 2\\nvalue = 23.15'),\n",
       " Text(241.49894440534837, 98.36571428571429, 'mse = 0.0\\nsamples = 1\\nvalue = 23.1'),\n",
       " Text(243.38381421534132, 98.36571428571429, 'mse = 0.0\\nsamples = 1\\nvalue = 23.2'),\n",
       " Text(245.2686840253343, 119.07428571428571, 'X[7] <= 0.261\\nmse = 0.002\\nsamples = 2\\nvalue = 22.45'),\n",
       " Text(244.32624912033782, 108.72, 'mse = 0.0\\nsamples = 1\\nvalue = 22.4'),\n",
       " Text(246.21111893033077, 108.72, 'mse = 0.0\\nsamples = 1\\nvalue = 22.5'),\n",
       " Text(242.9125967628431, 139.78285714285715, 'mse = 0.0\\nsamples = 2\\nvalue = 19.1'),\n",
       " Text(249.50964109781845, 150.13714285714286, 'X[7] <= 0.13\\nmse = 0.811\\nsamples = 7\\nvalue = 19.429'),\n",
       " Text(248.56720619282197, 139.78285714285715, 'mse = 0.0\\nsamples = 1\\nvalue = 17.5'),\n",
       " Text(250.45207600281495, 139.78285714285715, 'X[8] <= 0.109\\nmse = 0.223\\nsamples = 6\\nvalue = 19.75'),\n",
       " Text(248.09598874032372, 129.42857142857144, 'X[2] <= 0.183\\nmse = 0.062\\nsamples = 2\\nvalue = 19.15'),\n",
       " Text(247.15355383532724, 119.07428571428571, 'mse = 0.0\\nsamples = 1\\nvalue = 18.9'),\n",
       " Text(249.03842364532022, 119.07428571428571, 'mse = 0.0\\nsamples = 1\\nvalue = 19.4'),\n",
       " Text(252.80816326530615, 129.42857142857144, 'X[6] <= 0.638\\nmse = 0.032\\nsamples = 4\\nvalue = 20.05'),\n",
       " Text(250.92329345531317, 119.07428571428571, 'X[4] <= 0.254\\nmse = 0.01\\nsamples = 2\\nvalue = 20.2'),\n",
       " Text(249.9808585503167, 108.72, 'mse = 0.0\\nsamples = 1\\nvalue = 20.3'),\n",
       " Text(251.86572836030965, 108.72, 'mse = -0.0\\nsamples = 1\\nvalue = 20.1'),\n",
       " Text(254.6930330752991, 119.07428571428571, 'X[6] <= 0.774\\nmse = 0.01\\nsamples = 2\\nvalue = 19.9'),\n",
       " Text(253.75059817030262, 108.72, 'mse = 0.0\\nsamples = 1\\nvalue = 19.8'),\n",
       " Text(255.63546798029557, 108.72, 'mse = 0.0\\nsamples = 1\\nvalue = 20.0'),\n",
       " Text(262.64482758620693, 160.49142857142857, 'X[0] <= 0.002\\nmse = 8.277\\nsamples = 22\\nvalue = 17.818'),\n",
       " Text(257.5203377902885, 150.13714285714286, 'X[12] <= 0.474\\nmse = 9.354\\nsamples = 5\\nvalue = 21.08'),\n",
       " Text(256.5779028852921, 139.78285714285715, 'X[0] <= 0.001\\nmse = 0.367\\nsamples = 4\\nvalue = 19.575'),\n",
       " Text(255.63546798029557, 129.42857142857144, 'mse = 0.0\\nsamples = 1\\nvalue = 20.5'),\n",
       " Text(257.5203377902885, 129.42857142857144, 'X[12] <= 0.403\\nmse = 0.109\\nsamples = 3\\nvalue = 19.267'),\n",
       " Text(256.5779028852921, 119.07428571428571, 'mse = 0.0\\nsamples = 1\\nvalue = 18.8'),\n",
       " Text(258.462772695285, 119.07428571428571, 'mse = 0.0\\nsamples = 2\\nvalue = 19.5'),\n",
       " Text(258.462772695285, 139.78285714285715, 'mse = -0.0\\nsamples = 1\\nvalue = 27.1'),\n",
       " Text(267.7693173821253, 150.13714285714286, 'X[6] <= 0.921\\nmse = 3.911\\nsamples = 17\\nvalue = 16.859'),\n",
       " Text(263.1749472202674, 139.78285714285715, 'X[6] <= 0.905\\nmse = 3.145\\nsamples = 6\\nvalue = 18.383'),\n",
       " Text(261.2900774102745, 129.42857142857144, 'X[4] <= 0.324\\nmse = 0.535\\nsamples = 4\\nvalue = 17.3'),\n",
       " Text(260.347642505278, 119.07428571428571, 'mse = 0.0\\nsamples = 2\\nvalue = 16.6'),\n",
       " Text(262.232512315271, 119.07428571428571, 'X[0] <= 0.022\\nmse = 0.09\\nsamples = 2\\nvalue = 18.0'),\n",
       " Text(261.2900774102745, 108.72, 'mse = 0.0\\nsamples = 1\\nvalue = 18.3'),\n",
       " Text(263.1749472202674, 108.72, 'mse = 0.0\\nsamples = 1\\nvalue = 17.7'),\n",
       " Text(265.0598170302604, 129.42857142857144, 'X[11] <= 0.991\\nmse = 1.322\\nsamples = 2\\nvalue = 20.55'),\n",
       " Text(264.11738212526393, 119.07428571428571, 'mse = 0.0\\nsamples = 1\\nvalue = 19.4'),\n",
       " Text(266.0022519352569, 119.07428571428571, 'mse = 0.0\\nsamples = 1\\nvalue = 21.7'),\n",
       " Text(272.36368754398313, 139.78285714285715, 'X[12] <= 0.44\\nmse = 2.369\\nsamples = 11\\nvalue = 16.027'),\n",
       " Text(268.82955665024633, 129.42857142857144, 'X[12] <= 0.359\\nmse = 0.872\\nsamples = 4\\nvalue = 17.575'),\n",
       " Text(267.88712174524983, 119.07428571428571, 'mse = 0.0\\nsamples = 1\\nvalue = 16.0'),\n",
       " Text(269.7719915552428, 119.07428571428571, 'X[10] <= 0.862\\nmse = 0.06\\nsamples = 3\\nvalue = 18.1'),\n",
       " Text(268.82955665024633, 108.72, 'mse = 0.0\\nsamples = 1\\nvalue = 17.8'),\n",
       " Text(270.7144264602393, 108.72, 'X[6] <= 0.967\\nmse = 0.023\\nsamples = 2\\nvalue = 18.25'),\n",
       " Text(269.7719915552428, 98.36571428571429, 'mse = 0.0\\nsamples = 1\\nvalue = 18.4'),\n",
       " Text(271.6568613652358, 98.36571428571429, 'mse = 0.0\\nsamples = 1\\nvalue = 18.1'),\n",
       " Text(275.89781843771993, 129.42857142857144, 'X[9] <= 0.233\\nmse = 1.074\\nsamples = 7\\nvalue = 15.143'),\n",
       " Text(273.54173117522873, 119.07428571428571, 'X[9] <= 0.158\\nmse = 0.16\\nsamples = 2\\nvalue = 14.0'),\n",
       " Text(272.59929627023223, 108.72, 'mse = 0.0\\nsamples = 1\\nvalue = 14.4'),\n",
       " Text(274.48416608022524, 108.72, 'mse = 0.0\\nsamples = 1\\nvalue = 13.6'),\n",
       " Text(278.25390570021113, 119.07428571428571, 'X[11] <= 0.965\\nmse = 0.708\\nsamples = 5\\nvalue = 15.6'),\n",
       " Text(276.3690358902182, 108.72, 'X[0] <= 0.088\\nmse = 0.09\\nsamples = 2\\nvalue = 14.9'),\n",
       " Text(275.4266009852217, 98.36571428571429, 'mse = 0.0\\nsamples = 1\\nvalue = 15.2'),\n",
       " Text(277.31147079521463, 98.36571428571429, 'mse = 0.0\\nsamples = 1\\nvalue = 14.6'),\n",
       " Text(280.1387755102041, 108.72, 'X[7] <= 0.462\\nmse = 0.576\\nsamples = 3\\nvalue = 16.067'),\n",
       " Text(279.19634060520764, 98.36571428571429, 'X[6] <= 0.967\\nmse = 0.01\\nsamples = 2\\nvalue = 16.6'),\n",
       " Text(278.25390570021113, 88.01142857142858, 'mse = 0.0\\nsamples = 1\\nvalue = 16.7'),\n",
       " Text(280.1387755102041, 88.01142857142858, 'mse = -0.0\\nsamples = 1\\nvalue = 16.5'),\n",
       " Text(281.0812104152006, 98.36571428571429, 'mse = 0.0\\nsamples = 1\\nvalue = 15.0'),\n",
       " Text(315.914488036594, 201.90857142857143, 'X[5] <= 0.743\\nmse = 76.221\\nsamples = 62\\nvalue = 36.824'),\n",
       " Text(306.39442294159045, 191.5542857142857, 'X[4] <= 0.564\\nmse = 39.454\\nsamples = 39\\nvalue = 32.241'),\n",
       " Text(303.0222730471499, 181.2, 'X[7] <= 0.069\\nmse = 22.096\\nsamples = 37\\nvalue = 33.222'),\n",
       " Text(299.1052779732583, 170.84571428571428, 'X[7] <= 0.037\\nmse = 18.923\\nsamples = 2\\nvalue = 45.65'),\n",
       " Text(298.1628430682618, 160.49142857142857, 'mse = 0.0\\nsamples = 1\\nvalue = 50.0'),\n",
       " Text(300.04771287825474, 160.49142857142857, 'mse = -0.0\\nsamples = 1\\nvalue = 41.3'),\n",
       " Text(306.93926812104155, 170.84571428571428, 'X[2] <= 0.319\\nmse = 12.947\\nsamples = 35\\nvalue = 32.511'),\n",
       " Text(301.93258268824775, 160.49142857142857, 'X[4] <= 0.213\\nmse = 9.536\\nsamples = 33\\nvalue = 33.0'),\n",
       " Text(294.74651653764954, 150.13714285714286, 'X[7] <= 0.512\\nmse = 5.042\\nsamples = 23\\nvalue = 33.861'),\n",
       " Text(289.0919071076707, 139.78285714285715, 'X[5] <= 0.707\\nmse = 2.603\\nsamples = 13\\nvalue = 35.1'),\n",
       " Text(287.2070372976777, 129.42857142857144, 'X[2] <= 0.185\\nmse = 2.071\\nsamples = 10\\nvalue = 35.65'),\n",
       " Text(286.26460239268124, 119.07428571428571, 'X[0] <= 0.0\\nmse = 1.498\\nsamples = 9\\nvalue = 35.933'),\n",
       " Text(283.90851513019004, 108.72, 'X[5] <= 0.661\\nmse = 0.562\\nsamples = 2\\nvalue = 34.15'),\n",
       " Text(282.96608022519354, 98.36571428571429, 'mse = 0.0\\nsamples = 1\\nvalue = 33.4'),\n",
       " Text(284.8509500351865, 98.36571428571429, 'mse = -0.0\\nsamples = 1\\nvalue = 34.9'),\n",
       " Text(288.62068965517244, 108.72, 'X[12] <= 0.096\\nmse = 0.597\\nsamples = 7\\nvalue = 36.443'),\n",
       " Text(286.7358198451795, 98.36571428571429, 'X[5] <= 0.69\\nmse = 0.122\\nsamples = 4\\nvalue = 36.975'),\n",
       " Text(285.793384940183, 88.01142857142858, 'X[11] <= 0.976\\nmse = 0.016\\nsamples = 3\\nvalue = 37.167'),\n",
       " Text(284.8509500351865, 77.65714285714284, 'mse = 0.0\\nsamples = 1\\nvalue = 37.0'),\n",
       " Text(286.7358198451795, 77.65714285714284, 'X[2] <= 0.119\\nmse = 0.003\\nsamples = 2\\nvalue = 37.25'),\n",
       " Text(285.793384940183, 67.30285714285714, 'mse = 0.0\\nsamples = 1\\nvalue = 37.2'),\n",
       " Text(287.67825475017594, 67.30285714285714, 'mse = 0.0\\nsamples = 1\\nvalue = 37.3'),\n",
       " Text(287.67825475017594, 88.01142857142858, 'mse = -0.0\\nsamples = 1\\nvalue = 36.4'),\n",
       " Text(290.5055594651654, 98.36571428571429, 'X[1] <= 0.39\\nmse = 0.349\\nsamples = 3\\nvalue = 35.733'),\n",
       " Text(289.5631245601689, 88.01142857142858, 'X[12] <= 0.121\\nmse = 0.003\\nsamples = 2\\nvalue = 36.15'),\n",
       " Text(288.62068965517244, 77.65714285714284, 'mse = 0.0\\nsamples = 1\\nvalue = 36.2'),\n",
       " Text(290.5055594651654, 77.65714285714284, 'mse = -0.0\\nsamples = 1\\nvalue = 36.1'),\n",
       " Text(291.4479943701619, 88.01142857142858, 'mse = -0.0\\nsamples = 1\\nvalue = 34.9'),\n",
       " Text(288.1494722026742, 119.07428571428571, 'mse = -0.0\\nsamples = 1\\nvalue = 33.1'),\n",
       " Text(290.97677691766364, 129.42857142857144, 'X[9] <= 0.097\\nmse = 0.009\\nsamples = 3\\nvalue = 33.267'),\n",
       " Text(290.03434201266714, 119.07428571428571, 'mse = 0.0\\nsamples = 1\\nvalue = 33.4'),\n",
       " Text(291.91921182266015, 119.07428571428571, 'mse = 0.0\\nsamples = 2\\nvalue = 33.2'),\n",
       " Text(300.40112596762845, 139.78285714285715, 'X[0] <= 0.0\\nmse = 3.622\\nsamples = 10\\nvalue = 32.25'),\n",
       " Text(298.04503870513724, 129.42857142857144, 'X[0] <= 0.0\\nmse = 0.862\\nsamples = 7\\nvalue = 33.371'),\n",
       " Text(296.1601688951443, 119.07428571428571, 'X[2] <= 0.065\\nmse = 0.095\\nsamples = 4\\nvalue = 32.7'),\n",
       " Text(295.2177339901478, 108.72, 'X[4] <= 0.091\\nmse = 0.016\\nsamples = 3\\nvalue = 32.867'),\n",
       " Text(294.27529908515135, 98.36571428571429, 'X[5] <= 0.682\\nmse = 0.003\\nsamples = 2\\nvalue = 32.95'),\n",
       " Text(293.33286418015484, 88.01142857142858, 'mse = 0.0\\nsamples = 1\\nvalue = 33.0'),\n",
       " Text(295.2177339901478, 88.01142857142858, 'mse = -0.0\\nsamples = 1\\nvalue = 32.9'),\n",
       " Text(296.1601688951443, 98.36571428571429, 'mse = -0.0\\nsamples = 1\\nvalue = 32.7'),\n",
       " Text(297.10260380014074, 108.72, 'mse = 0.0\\nsamples = 1\\nvalue = 32.2'),\n",
       " Text(299.9299085151302, 119.07428571428571, 'X[0] <= 0.0\\nmse = 0.482\\nsamples = 3\\nvalue = 34.267'),\n",
       " Text(298.98747361013375, 108.72, 'X[10] <= 0.234\\nmse = 0.022\\nsamples = 2\\nvalue = 34.75'),\n",
       " Text(298.04503870513724, 98.36571428571429, 'mse = 0.0\\nsamples = 1\\nvalue = 34.6'),\n",
       " Text(299.9299085151302, 98.36571428571429, 'mse = 0.0\\nsamples = 1\\nvalue = 34.9'),\n",
       " Text(300.8723434201267, 108.72, 'mse = 0.0\\nsamples = 1\\nvalue = 33.3'),\n",
       " Text(302.75721323011965, 129.42857142857144, 'X[11] <= 0.914\\nmse = 0.282\\nsamples = 3\\nvalue = 29.633'),\n",
       " Text(301.8147783251232, 119.07428571428571, 'mse = 0.0\\nsamples = 1\\nvalue = 30.3'),\n",
       " Text(303.69964813511615, 119.07428571428571, 'X[7] <= 0.658\\nmse = 0.09\\nsamples = 2\\nvalue = 29.3'),\n",
       " Text(302.75721323011965, 108.72, 'mse = 0.0\\nsamples = 1\\nvalue = 29.0'),\n",
       " Text(304.6420830401126, 108.72, 'mse = 0.0\\nsamples = 1\\nvalue = 29.6'),\n",
       " Text(309.1186488388459, 150.13714285714286, 'X[0] <= 0.005\\nmse = 14.246\\nsamples = 10\\nvalue = 31.02'),\n",
       " Text(305.5845179451091, 139.78285714285715, 'X[12] <= 0.107\\nmse = 4.402\\nsamples = 3\\nvalue = 26.333'),\n",
       " Text(304.6420830401126, 129.42857142857144, 'mse = 0.0\\nsamples = 1\\nvalue = 23.6'),\n",
       " Text(306.5269528501056, 129.42857142857144, 'X[11] <= 0.992\\nmse = 1.0\\nsamples = 2\\nvalue = 27.7'),\n",
       " Text(305.5845179451091, 119.07428571428571, 'mse = 0.0\\nsamples = 1\\nvalue = 26.7'),\n",
       " Text(307.46938775510205, 119.07428571428571, 'mse = 0.0\\nsamples = 1\\nvalue = 28.7'),\n",
       " Text(312.6527797325827, 139.78285714285715, 'X[7] <= 0.08\\nmse = 5.016\\nsamples = 7\\nvalue = 33.029'),\n",
       " Text(310.2966924700915, 129.42857142857144, 'X[11] <= 0.971\\nmse = 0.062\\nsamples = 2\\nvalue = 36.25'),\n",
       " Text(309.354257565095, 119.07428571428571, 'mse = 0.0\\nsamples = 1\\nvalue = 36.0'),\n",
       " Text(311.239127375088, 119.07428571428571, 'mse = 0.0\\nsamples = 1\\nvalue = 36.5'),\n",
       " Text(315.0088669950739, 129.42857142857144, 'X[6] <= 0.827\\nmse = 1.186\\nsamples = 5\\nvalue = 31.74'),\n",
       " Text(313.12399718508095, 119.07428571428571, 'X[1] <= 0.1\\nmse = 1.082\\nsamples = 3\\nvalue = 32.333'),\n",
       " Text(312.18156228008445, 108.72, 'X[0] <= 0.005\\nmse = 0.01\\nsamples = 2\\nvalue = 31.6'),\n",
       " Text(311.239127375088, 98.36571428571429, 'mse = 0.0\\nsamples = 1\\nvalue = 31.7'),\n",
       " Text(313.12399718508095, 98.36571428571429, 'mse = -0.0\\nsamples = 1\\nvalue = 31.5'),\n",
       " Text(314.06643209007746, 108.72, 'mse = 0.0\\nsamples = 1\\nvalue = 33.8'),\n",
       " Text(316.89373680506685, 119.07428571428571, 'X[0] <= 0.009\\nmse = 0.022\\nsamples = 2\\nvalue = 30.85'),\n",
       " Text(315.9513019000704, 108.72, 'mse = 0.0\\nsamples = 1\\nvalue = 30.7'),\n",
       " Text(317.83617171006335, 108.72, 'mse = -0.0\\nsamples = 1\\nvalue = 31.0'),\n",
       " Text(311.94595355383535, 160.49142857142857, 'X[11] <= 0.998\\nmse = 0.303\\nsamples = 2\\nvalue = 24.45'),\n",
       " Text(311.00351864883885, 150.13714285714286, 'mse = 0.0\\nsamples = 1\\nvalue = 25.0'),\n",
       " Text(312.88838845883186, 150.13714285714286, 'mse = 0.0\\nsamples = 1\\nvalue = 23.9'),\n",
       " Text(309.766572836031, 181.2, 'X[5] <= 0.694\\nmse = 13.69\\nsamples = 2\\nvalue = 14.1'),\n",
       " Text(308.8241379310345, 170.84571428571428, 'mse = 0.0\\nsamples = 1\\nvalue = 10.4'),\n",
       " Text(310.70900774102745, 170.84571428571428, 'mse = -0.0\\nsamples = 1\\nvalue = 17.8'),\n",
       " Text(325.4345531315975, 191.5542857142857, 'X[10] <= 0.75\\nmse = 42.551\\nsamples = 23\\nvalue = 44.596'),\n",
       " Text(324.492118226601, 181.2, 'X[7] <= 0.189\\nmse = 20.007\\nsamples = 22\\nvalue = 45.627'),\n",
       " Text(318.77860661505986, 170.84571428571428, 'X[0] <= 0.006\\nmse = 5.84\\nsamples = 10\\nvalue = 48.67'),\n",
       " Text(317.83617171006335, 160.49142857142857, 'X[5] <= 0.788\\nmse = 7.967\\nsamples = 4\\nvalue = 46.675'),\n",
       " Text(316.89373680506685, 150.13714285714286, 'mse = 0.0\\nsamples = 1\\nvalue = 43.1'),\n",
       " Text(318.77860661505986, 150.13714285714286, 'X[9] <= 0.188\\nmse = 4.942\\nsamples = 3\\nvalue = 47.867'),\n",
       " Text(317.83617171006335, 139.78285714285715, 'X[12] <= 0.095\\nmse = 0.36\\nsamples = 2\\nvalue = 49.4'),\n",
       " Text(316.89373680506685, 129.42857142857144, 'mse = 0.0\\nsamples = 1\\nvalue = 50.0'),\n",
       " Text(318.77860661505986, 129.42857142857144, 'mse = 0.0\\nsamples = 1\\nvalue = 48.8'),\n",
       " Text(319.7210415200563, 139.78285714285715, 'mse = 0.0\\nsamples = 1\\nvalue = 44.8'),\n",
       " Text(319.7210415200563, 160.49142857142857, 'mse = -0.0\\nsamples = 6\\nvalue = 50.0'),\n",
       " Text(330.20562983814216, 170.84571428571428, 'X[12] <= 0.065\\nmse = 17.669\\nsamples = 12\\nvalue = 43.092'),\n",
       " Text(327.4961294862773, 160.49142857142857, 'X[0] <= 0.004\\nmse = 11.538\\nsamples = 10\\nvalue = 44.32'),\n",
       " Text(324.90443349753696, 150.13714285714286, 'X[5] <= 0.826\\nmse = 6.313\\nsamples = 7\\nvalue = 45.871'),\n",
       " Text(322.54834623504576, 139.78285714285715, 'X[8] <= 0.13\\nmse = 2.53\\nsamples = 5\\nvalue = 44.56'),\n",
       " Text(320.6634764250528, 129.42857142857144, 'X[10] <= 0.287\\nmse = 0.576\\nsamples = 3\\nvalue = 43.367'),\n",
       " Text(319.7210415200563, 119.07428571428571, 'mse = 0.0\\nsamples = 1\\nvalue = 42.3'),\n",
       " Text(321.6059113300493, 119.07428571428571, 'X[2] <= 0.105\\nmse = 0.01\\nsamples = 2\\nvalue = 43.9'),\n",
       " Text(320.6634764250528, 108.72, 'mse = 0.0\\nsamples = 1\\nvalue = 43.8'),\n",
       " Text(322.54834623504576, 108.72, 'mse = -0.0\\nsamples = 1\\nvalue = 44.0'),\n",
       " Text(324.4332160450387, 129.42857142857144, 'X[9] <= 0.142\\nmse = 0.123\\nsamples = 2\\nvalue = 46.35'),\n",
       " Text(323.49078114004226, 119.07428571428571, 'mse = 0.0\\nsamples = 1\\nvalue = 46.0'),\n",
       " Text(325.3756509500352, 119.07428571428571, 'mse = 0.0\\nsamples = 1\\nvalue = 46.7'),\n",
       " Text(327.26052076002816, 139.78285714285715, 'X[1] <= 0.45\\nmse = 0.722\\nsamples = 2\\nvalue = 49.15'),\n",
       " Text(326.3180858550317, 129.42857142857144, 'mse = 0.0\\nsamples = 1\\nvalue = 48.3'),\n",
       " Text(328.20295566502466, 129.42857142857144, 'mse = -0.0\\nsamples = 1\\nvalue = 50.0'),\n",
       " Text(330.0878254750176, 150.13714285714286, 'X[7] <= 0.218\\nmse = 5.007\\nsamples = 3\\nvalue = 40.7'),\n",
       " Text(329.1453905700211, 139.78285714285715, 'mse = 0.0\\nsamples = 1\\nvalue = 37.6'),\n",
       " Text(331.0302603800141, 139.78285714285715, 'X[9] <= 0.251\\nmse = 0.302\\nsamples = 2\\nvalue = 42.25'),\n",
       " Text(330.0878254750176, 129.42857142857144, 'mse = 0.0\\nsamples = 1\\nvalue = 41.7'),\n",
       " Text(331.97269528501056, 129.42857142857144, 'mse = 0.0\\nsamples = 1\\nvalue = 42.8'),\n",
       " Text(332.91513019000706, 160.49142857142857, 'X[10] <= 0.606\\nmse = 3.063\\nsamples = 2\\nvalue = 36.95'),\n",
       " Text(331.97269528501056, 150.13714285714286, 'mse = 0.0\\nsamples = 1\\nvalue = 38.7'),\n",
       " Text(333.85756509500357, 150.13714285714286, 'mse = 0.0\\nsamples = 1\\nvalue = 35.2'),\n",
       " Text(326.37698803659396, 181.2, 'mse = -0.0\\nsamples = 1\\nvalue = 21.9')]"
      ]
     },
     "execution_count": 96,
     "metadata": {},
     "output_type": "execute_result"
    },
    {
     "data": {
      "image/png": "[encoded data removed]",
      "text/plain": [
       "<Figure size 432x288 with 1 Axes>"
      ]
     },
     "metadata": {
      "needs_background": "light"
     },
     "output_type": "display_data"
    }
   ],
   "source": [
    "# Show plot\n",
    "tree.plot_tree(dt_model)"
   ]
  },
  {
   "cell_type": "markdown",
   "metadata": {},
   "source": [
    "### Report accuracy"
   ]
  },
  {
   "cell_type": "code",
   "execution_count": 109,
   "metadata": {},
   "outputs": [
    {
     "data": {
      "text/plain": [
       "1.0"
      ]
     },
     "execution_count": 109,
     "metadata": {},
     "output_type": "execute_result"
    }
   ],
   "source": [
    "score_train = dt_model.score(X_train, y_train)\n",
    "score_train # r2"
   ]
  },
  {
   "cell_type": "code",
   "execution_count": 97,
   "metadata": {},
   "outputs": [
    {
     "data": {
      "text/plain": [
       "0.8559207694719114"
      ]
     },
     "execution_count": 97,
     "metadata": {},
     "output_type": "execute_result"
    }
   ],
   "source": [
    "score = dt_model.score(X_test, y_test)\n",
    "score # r2"
   ]
  },
  {
   "cell_type": "markdown",
   "metadata": {},
   "source": [
    "### Variable importance plot"
   ]
  },
  {
   "cell_type": "code",
   "execution_count": 98,
   "metadata": {},
   "outputs": [
    {
     "data": {
      "text/plain": [
       "<AxesSubplot:>"
      ]
     },
     "execution_count": 98,
     "metadata": {},
     "output_type": "execute_result"
    },
    {
     "data": {
      "image/png": "[encoded data removed]",
      "text/plain": [
       "<Figure size 432x288 with 1 Axes>"
      ]
     },
     "metadata": {
      "needs_background": "light"
     },
     "output_type": "display_data"
    }
   ],
   "source": [
    "# Get importance\n",
    "importance = dt_model.feature_importances_\n",
    "# Adding name of cols\n",
    "importance = pd.DataFrame(importance, index=X.columns, \n",
    "                          columns=[\"Importance\"])\n",
    "\n",
    "# Sort values\n",
    "importance = importance.sort_values(by=['Importance'], ascending=False)\n",
    "\n",
    "importance.plot.bar()"
   ]
  },
  {
   "cell_type": "markdown",
   "metadata": {},
   "source": [
    "The plot tells us that **the most relevant variable is RM (average number of rooms per dwelling), followed by LSTAT (% lower status of the population) and DIS (weighted distances to five Boston employment centres).** RM represents ~60% of the relative importance. \n",
    "\n",
    "If we want to understand the sign of the effect, we can look at the splits and see the direction of each of them based on the decisions. "
   ]
  },
  {
   "cell_type": "markdown",
   "metadata": {},
   "source": [
    "We can prune the model to have a simple version and avoid overfitting (in this case is not happening but it's always a good idea to have the smallest possible tree that fits well)"
   ]
  },
  {
   "cell_type": "markdown",
   "metadata": {},
   "source": [
    "### Parameter tuning and cross-validation"
   ]
  },
  {
   "cell_type": "markdown",
   "metadata": {},
   "source": [
    "- Sklearn documentation regarding parameters: https://scikit-learn.org/stable/modules/generated/sklearn.tree.DecisionTreeRegressor.html\n",
    "- Tutorial on how to tune: https://projector-video-pdf-converter.datacamp.com/6280/chapter5.pdf"
   ]
  },
  {
   "cell_type": "markdown",
   "metadata": {},
   "source": [
    " By tuning parameters, we can prune the tree and maximize the precision. We are going to use gridsearch, but there are other methods to tune (eg randomsearch)\n",
    " Some of the most relevant parameters to tune in a decision tree regressor are:\n",
    " - **maxdepth:** This indicates how deep the tree can be. The deeper the tree, the more splits it has and it captures more information about the data\n",
    " - **min_samples_split:** The minimum number of samples required to split an internal node\n",
    " - **min_samples_leaf:** The minimum number of samples required to be at a leaf node\n",
    " - **max_features:** The number of features to consider when looking for the best split"
   ]
  },
  {
   "cell_type": "code",
   "execution_count": 99,
   "metadata": {},
   "outputs": [
    {
     "name": "stdout",
     "output_type": "stream",
     "text": [
      "{'ccp_alpha': 0.0, 'criterion': 'mse', 'max_depth': None, 'max_features': None, 'max_leaf_nodes': None, 'min_impurity_decrease': 0.0, 'min_impurity_split': None, 'min_samples_leaf': 1, 'min_samples_split': 2, 'min_weight_fraction_leaf': 0.0, 'presort': 'deprecated', 'random_state': 42, 'splitter': 'best'}\n"
     ]
    }
   ],
   "source": [
    "# Check current parameters (default in this case as we didn't specify any)\n",
    "print(dt_model.get_params())"
   ]
  },
  {
   "cell_type": "code",
   "execution_count": 100,
   "metadata": {},
   "outputs": [
    {
     "data": {
      "text/plain": [
       "20"
      ]
     },
     "execution_count": 100,
     "metadata": {},
     "output_type": "execute_result"
    }
   ],
   "source": [
    "# Check current depth\n",
    "dt_model.get_depth()"
   ]
  },
  {
   "cell_type": "code",
   "execution_count": 101,
   "metadata": {},
   "outputs": [],
   "source": [
    "# Parameters to tune - ranges\n",
    "params_dt = {\n",
    "'max_depth': range(3,11),\n",
    "'min_samples_leaf': [0.04, 0.06, 0.08],\n",
    "'max_features': [0.2, 0.4,0.6, 0.8]\n",
    "}"
   ]
  },
  {
   "cell_type": "code",
   "execution_count": 102,
   "metadata": {},
   "outputs": [],
   "source": [
    "# Instantiate a 10-fold CV grid search object using ranges defined and type of scoring to decide best model\n",
    "grid_dt = GridSearchCV(estimator=dt_model,\n",
    "param_grid=params_dt,\n",
    "scoring='r2',\n",
    "cv=10,\n",
    "n_jobs=-1) # -1 means using all processors."
   ]
  },
  {
   "cell_type": "code",
   "execution_count": 103,
   "metadata": {},
   "outputs": [
    {
     "data": {
      "text/plain": [
       "GridSearchCV(cv=10, error_score=nan,\n",
       "             estimator=DecisionTreeRegressor(ccp_alpha=0.0, criterion='mse',\n",
       "                                             max_depth=None, max_features=None,\n",
       "                                             max_leaf_nodes=None,\n",
       "                                             min_impurity_decrease=0.0,\n",
       "                                             min_impurity_split=None,\n",
       "                                             min_samples_leaf=1,\n",
       "                                             min_samples_split=2,\n",
       "                                             min_weight_fraction_leaf=0.0,\n",
       "                                             presort='deprecated',\n",
       "                                             random_state=42, splitter='best'),\n",
       "             iid='deprecated', n_jobs=-1,\n",
       "             param_grid={'max_depth': range(3, 11),\n",
       "                         'max_features': [0.2, 0.4, 0.6, 0.8],\n",
       "                         'min_samples_leaf': [0.04, 0.06, 0.08]},\n",
       "             pre_dispatch='2*n_jobs', refit=True, return_train_score=False,\n",
       "             scoring='r2', verbose=0)"
      ]
     },
     "execution_count": 103,
     "metadata": {},
     "output_type": "execute_result"
    }
   ],
   "source": [
    "# Estimate models - can take long depending on data size\n",
    "grid_dt.fit(X_train, y_train)"
   ]
  },
  {
   "cell_type": "code",
   "execution_count": 104,
   "metadata": {},
   "outputs": [
    {
     "name": "stdout",
     "output_type": "stream",
     "text": [
      "Best hyerparameters:\n",
      " {'max_depth': 5, 'max_features': 0.8, 'min_samples_leaf': 0.04}\n"
     ]
    }
   ],
   "source": [
    "# Extract best hyperparameters\n",
    "best_hyperparams = grid_dt.best_params_\n",
    "print('Best hyperparameters:\\n', best_hyperparams)"
   ]
  },
  {
   "cell_type": "code",
   "execution_count": 105,
   "metadata": {},
   "outputs": [
    {
     "data": {
      "text/plain": [
       "0.7280629703024193"
      ]
     },
     "execution_count": 105,
     "metadata": {},
     "output_type": "execute_result"
    }
   ],
   "source": [
    "# Extract best CV score\n",
    "best_CV_score = grid_dt.best_score_\n",
    "best_CV_score"
   ]
  },
  {
   "cell_type": "code",
   "execution_count": 106,
   "metadata": {},
   "outputs": [
    {
     "name": "stdout",
     "output_type": "stream",
     "text": [
      "Test set accuracy of best model: 0.737\n"
     ]
    }
   ],
   "source": [
    "# Extract best model\n",
    "best_model = grid_dt.best_estimator_\n",
    "# Evaluate test set accuracy\n",
    "test_acc = best_model.score(X_test,y_test)\n",
    "# Print test set accuracy\n",
    "print(\"Test set accuracy of best model: {:.3f}\".format(test_acc))"
   ]
  },
  {
   "cell_type": "code",
   "execution_count": 107,
   "metadata": {},
   "outputs": [
    {
     "data": {
      "image/png": "[encoded data removed]",
      "text/plain": [
       "<Figure size 432x288 with 1 Axes>"
      ]
     },
     "metadata": {
      "needs_background": "light"
     },
     "output_type": "display_data"
    },
    {
     "data": {
      "image/png": "[encoded data removed]",
      "text/plain": [
       "<Figure size 864x864 with 1 Axes>"
      ]
     },
     "metadata": {
      "needs_background": "light"
     },
     "output_type": "display_data"
    }
   ],
   "source": [
    "# Plot tree\n",
    "tree.plot_tree(best_model)\n",
    "fig, ax = plt.subplots(figsize=(12, 12))\n",
    "tree.plot_tree(best_model, fontsize=10, feature_names=X.columns)\n",
    "plt.show()"
   ]
  },
  {
   "cell_type": "code",
   "execution_count": 108,
   "metadata": {},
   "outputs": [
    {
     "data": {
      "text/plain": [
       "<AxesSubplot:>"
      ]
     },
     "execution_count": 108,
     "metadata": {},
     "output_type": "execute_result"
    },
    {
     "data": {
      "image/png": "[encoded data removed]",
      "text/plain": [
       "<Figure size 432x288 with 1 Axes>"
      ]
     },
     "metadata": {
      "needs_background": "light"
     },
     "output_type": "display_data"
    }
   ],
   "source": [
    "# Variable importance\n",
    "importance = best_model.feature_importances_\n",
    "# Adding name of cols\n",
    "importance = pd.DataFrame(importance, index=X.columns, \n",
    "                          columns=[\"Importance\"])\n",
    "\n",
    "# Sort values\n",
    "importance = importance.sort_values(by=['Importance'], ascending=False)\n",
    "\n",
    "importance.plot.bar()"
   ]
  },
  {
   "cell_type": "markdown",
   "metadata": {},
   "source": [
    "In conclusion, we get 2 good models one pruned, easier to explain but with less accuracy and another more complex but high accuracy. Depending on the purpose, we could choose the right one (eg if prediction is the goal, higher accuracy might be the metric to follow but if we are focused on describe what is impacting prices, a shorter version of the model might be enough)"
   ]
  },
  {
   "cell_type": "code",
   "execution_count": null,
   "metadata": {},
   "outputs": [],
   "source": [
    "# Create pipeline - for another lesson we can convert all this on a pipeline "
   ]
  }
 ],
 "metadata": {
  "kernelspec": {
   "display_name": "Python 3",
   "language": "python",
   "name": "python3"
  },
  "language_info": {
   "codemirror_mode": {
    "name": "ipython",
    "version": 3
   },
   "file_extension": ".py",
   "mimetype": "text/x-python",
   "name": "python",
   "nbconvert_exporter": "python",
   "pygments_lexer": "ipython3",
   "version": "3.7.6"
  }
 },
 "nbformat": 4,
 "nbformat_minor": 4
}
